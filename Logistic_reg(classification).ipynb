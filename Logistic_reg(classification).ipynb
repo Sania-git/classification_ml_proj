{
 "cells": [
  {
   "cell_type": "markdown",
   "id": "bff91524-ca0b-4afd-aa09-404b6c75d57d",
   "metadata": {
    "jp-MarkdownHeadingCollapsed": true
   },
   "source": [
    "# Step1 - Understanding Problem Statement\n",
    "# Step2 - OBJECTIVE : Classification model on Income\n",
    "# Step3 - Understanding Variables(description)"
   ]
  },
  {
   "cell_type": "markdown",
   "id": "5430c67a-4423-46a7-aca4-cf80d2b62386",
   "metadata": {},
   "source": [
    "# Step4 - Starting with Project"
   ]
  },
  {
   "cell_type": "code",
   "execution_count": 165,
   "id": "acd8c6df-fcb7-4e0e-a361-ff73a912be4a",
   "metadata": {},
   "outputs": [],
   "source": [
    "# Import required Packages\n",
    "import pandas as pd\n",
    "import numpy as np\n",
    "import seaborn as sns\n",
    "import sklearn\n",
    "from sklearn.model_selection import train_test_split #to partition the data #Lib -> Module -> function\n",
    "from sklearn.linear_model import LogisticRegression\n",
    "from sklearn.metrics import accuracy_score, confusion_matrix #importing performance metrics: accuracy score, confusion matrix\n"
   ]
  },
  {
   "cell_type": "code",
   "execution_count": 166,
   "id": "abe6152e-0d1f-4a9d-a555-e993ac74d88c",
   "metadata": {},
   "outputs": [
    {
     "data": {
      "text/plain": [
       "['ConfusionMatrixDisplay',\n",
       " 'DetCurveDisplay',\n",
       " 'DistanceMetric',\n",
       " 'PrecisionRecallDisplay',\n",
       " 'PredictionErrorDisplay',\n",
       " 'RocCurveDisplay',\n",
       " '__all__',\n",
       " '__builtins__',\n",
       " '__cached__',\n",
       " '__doc__',\n",
       " '__file__',\n",
       " '__loader__',\n",
       " '__name__',\n",
       " '__package__',\n",
       " '__path__',\n",
       " '__spec__',\n",
       " '_base',\n",
       " '_classification',\n",
       " '_dist_metrics',\n",
       " '_pairwise_distances_reduction',\n",
       " '_pairwise_fast',\n",
       " '_plot',\n",
       " '_ranking',\n",
       " '_regression',\n",
       " '_scorer',\n",
       " 'accuracy_score',\n",
       " 'adjusted_mutual_info_score',\n",
       " 'adjusted_rand_score',\n",
       " 'auc',\n",
       " 'average_precision_score',\n",
       " 'balanced_accuracy_score',\n",
       " 'brier_score_loss',\n",
       " 'calinski_harabasz_score',\n",
       " 'check_scoring',\n",
       " 'class_likelihood_ratios',\n",
       " 'classification_report',\n",
       " 'cluster',\n",
       " 'cohen_kappa_score',\n",
       " 'completeness_score',\n",
       " 'confusion_matrix',\n",
       " 'consensus_score',\n",
       " 'coverage_error',\n",
       " 'd2_absolute_error_score',\n",
       " 'd2_pinball_score',\n",
       " 'd2_tweedie_score',\n",
       " 'davies_bouldin_score',\n",
       " 'dcg_score',\n",
       " 'det_curve',\n",
       " 'euclidean_distances',\n",
       " 'explained_variance_score',\n",
       " 'f1_score',\n",
       " 'fbeta_score',\n",
       " 'fowlkes_mallows_score',\n",
       " 'get_scorer',\n",
       " 'get_scorer_names',\n",
       " 'hamming_loss',\n",
       " 'hinge_loss',\n",
       " 'homogeneity_completeness_v_measure',\n",
       " 'homogeneity_score',\n",
       " 'jaccard_score',\n",
       " 'label_ranking_average_precision_score',\n",
       " 'label_ranking_loss',\n",
       " 'log_loss',\n",
       " 'make_scorer',\n",
       " 'matthews_corrcoef',\n",
       " 'max_error',\n",
       " 'mean_absolute_error',\n",
       " 'mean_absolute_percentage_error',\n",
       " 'mean_gamma_deviance',\n",
       " 'mean_pinball_loss',\n",
       " 'mean_poisson_deviance',\n",
       " 'mean_squared_error',\n",
       " 'mean_squared_log_error',\n",
       " 'mean_tweedie_deviance',\n",
       " 'median_absolute_error',\n",
       " 'multilabel_confusion_matrix',\n",
       " 'mutual_info_score',\n",
       " 'nan_euclidean_distances',\n",
       " 'ndcg_score',\n",
       " 'normalized_mutual_info_score',\n",
       " 'pair_confusion_matrix',\n",
       " 'pairwise',\n",
       " 'pairwise_distances',\n",
       " 'pairwise_distances_argmin',\n",
       " 'pairwise_distances_argmin_min',\n",
       " 'pairwise_distances_chunked',\n",
       " 'pairwise_kernels',\n",
       " 'precision_recall_curve',\n",
       " 'precision_recall_fscore_support',\n",
       " 'precision_score',\n",
       " 'r2_score',\n",
       " 'rand_score',\n",
       " 'recall_score',\n",
       " 'roc_auc_score',\n",
       " 'roc_curve',\n",
       " 'root_mean_squared_error',\n",
       " 'root_mean_squared_log_error',\n",
       " 'silhouette_samples',\n",
       " 'silhouette_score',\n",
       " 'top_k_accuracy_score',\n",
       " 'v_measure_score',\n",
       " 'zero_one_loss']"
      ]
     },
     "execution_count": 166,
     "metadata": {},
     "output_type": "execute_result"
    }
   ],
   "source": [
    "dir(sklearn.metrics)"
   ]
  },
  {
   "cell_type": "code",
   "execution_count": 167,
   "id": "b66fce50-cf5a-4a52-abf8-2b2b54be392e",
   "metadata": {},
   "outputs": [],
   "source": [
    "# Importing Dataset\n",
    "data_income = pd.read_csv('income(1).csv')\n",
    "\n",
    "#Creating copy of original data\n",
    "data = data_income.copy()"
   ]
  },
  {
   "cell_type": "markdown",
   "id": "800583e9-2f39-4077-a69d-4dd97cfc47dd",
   "metadata": {},
   "source": [
    "# Step5 - Exploratory Data Analysis(EDA)"
   ]
  },
  {
   "cell_type": "code",
   "execution_count": 169,
   "id": "1f8378da-1b69-436e-b323-ff48136eda70",
   "metadata": {},
   "outputs": [],
   "source": [
    "# Getting to know the data"
   ]
  },
  {
   "cell_type": "code",
   "execution_count": 170,
   "id": "bc157133-0600-4b6b-aa41-f321c1b5969e",
   "metadata": {},
   "outputs": [
    {
     "data": {
      "text/plain": [
       "(31978, 13)"
      ]
     },
     "execution_count": 170,
     "metadata": {},
     "output_type": "execute_result"
    }
   ],
   "source": [
    "#\n",
    "data.shape"
   ]
  },
  {
   "cell_type": "code",
   "execution_count": 171,
   "id": "d6767161-ff40-473d-99e9-58315c63f654",
   "metadata": {},
   "outputs": [
    {
     "name": "stdout",
     "output_type": "stream",
     "text": [
      "<class 'pandas.core.frame.DataFrame'>\n",
      "RangeIndex: 31978 entries, 0 to 31977\n",
      "Data columns (total 13 columns):\n",
      " #   Column         Non-Null Count  Dtype \n",
      "---  ------         --------------  ----- \n",
      " 0   age            31978 non-null  int64 \n",
      " 1   JobType        31978 non-null  object\n",
      " 2   EdType         31978 non-null  object\n",
      " 3   maritalstatus  31978 non-null  object\n",
      " 4   occupation     31978 non-null  object\n",
      " 5   relationship   31978 non-null  object\n",
      " 6   race           31978 non-null  object\n",
      " 7   gender         31978 non-null  object\n",
      " 8   capitalgain    31978 non-null  int64 \n",
      " 9   capitalloss    31978 non-null  int64 \n",
      " 10  hoursperweek   31978 non-null  int64 \n",
      " 11  nativecountry  31978 non-null  object\n",
      " 12  SalStat        31978 non-null  object\n",
      "dtypes: int64(4), object(9)\n",
      "memory usage: 3.2+ MB\n"
     ]
    }
   ],
   "source": [
    "# Checking var types\n",
    "data.info()"
   ]
  },
  {
   "cell_type": "code",
   "execution_count": 172,
   "id": "9665b6c8-a757-4b36-a4a8-a31e190928d4",
   "metadata": {},
   "outputs": [
    {
     "data": {
      "text/plain": [
       "object    9\n",
       "int64     4\n",
       "Name: count, dtype: int64"
      ]
     },
     "execution_count": 172,
     "metadata": {},
     "output_type": "execute_result"
    }
   ],
   "source": [
    "data.dtypes.value_counts()"
   ]
  },
  {
   "cell_type": "code",
   "execution_count": 173,
   "id": "c8a7604f-c8b9-4301-9360-f5a7fbce4186",
   "metadata": {},
   "outputs": [
    {
     "data": {
      "text/html": [
       "<div>\n",
       "<style scoped>\n",
       "    .dataframe tbody tr th:only-of-type {\n",
       "        vertical-align: middle;\n",
       "    }\n",
       "\n",
       "    .dataframe tbody tr th {\n",
       "        vertical-align: top;\n",
       "    }\n",
       "\n",
       "    .dataframe thead th {\n",
       "        text-align: right;\n",
       "    }\n",
       "</style>\n",
       "<table border=\"1\" class=\"dataframe\">\n",
       "  <thead>\n",
       "    <tr style=\"text-align: right;\">\n",
       "      <th></th>\n",
       "      <th>JobType</th>\n",
       "      <th>EdType</th>\n",
       "      <th>maritalstatus</th>\n",
       "      <th>occupation</th>\n",
       "      <th>relationship</th>\n",
       "      <th>race</th>\n",
       "      <th>gender</th>\n",
       "      <th>nativecountry</th>\n",
       "      <th>SalStat</th>\n",
       "    </tr>\n",
       "  </thead>\n",
       "  <tbody>\n",
       "    <tr>\n",
       "      <th>0</th>\n",
       "      <td>Private</td>\n",
       "      <td>HS-grad</td>\n",
       "      <td>Divorced</td>\n",
       "      <td>Adm-clerical</td>\n",
       "      <td>Not-in-family</td>\n",
       "      <td>White</td>\n",
       "      <td>Female</td>\n",
       "      <td>United-States</td>\n",
       "      <td>less than or equal to 50,000</td>\n",
       "    </tr>\n",
       "    <tr>\n",
       "      <th>1</th>\n",
       "      <td>Federal-gov</td>\n",
       "      <td>HS-grad</td>\n",
       "      <td>Never-married</td>\n",
       "      <td>Armed-Forces</td>\n",
       "      <td>Own-child</td>\n",
       "      <td>White</td>\n",
       "      <td>Male</td>\n",
       "      <td>United-States</td>\n",
       "      <td>less than or equal to 50,000</td>\n",
       "    </tr>\n",
       "    <tr>\n",
       "      <th>2</th>\n",
       "      <td>Private</td>\n",
       "      <td>Some-college</td>\n",
       "      <td>Married-civ-spouse</td>\n",
       "      <td>Prof-specialty</td>\n",
       "      <td>Husband</td>\n",
       "      <td>White</td>\n",
       "      <td>Male</td>\n",
       "      <td>United-States</td>\n",
       "      <td>greater than 50,000</td>\n",
       "    </tr>\n",
       "    <tr>\n",
       "      <th>3</th>\n",
       "      <td>Private</td>\n",
       "      <td>9th</td>\n",
       "      <td>Never-married</td>\n",
       "      <td>Craft-repair</td>\n",
       "      <td>Other-relative</td>\n",
       "      <td>White</td>\n",
       "      <td>Male</td>\n",
       "      <td>Mexico</td>\n",
       "      <td>less than or equal to 50,000</td>\n",
       "    </tr>\n",
       "    <tr>\n",
       "      <th>4</th>\n",
       "      <td>Private</td>\n",
       "      <td>Some-college</td>\n",
       "      <td>Never-married</td>\n",
       "      <td>Sales</td>\n",
       "      <td>Not-in-family</td>\n",
       "      <td>White</td>\n",
       "      <td>Male</td>\n",
       "      <td>United-States</td>\n",
       "      <td>less than or equal to 50,000</td>\n",
       "    </tr>\n",
       "    <tr>\n",
       "      <th>...</th>\n",
       "      <td>...</td>\n",
       "      <td>...</td>\n",
       "      <td>...</td>\n",
       "      <td>...</td>\n",
       "      <td>...</td>\n",
       "      <td>...</td>\n",
       "      <td>...</td>\n",
       "      <td>...</td>\n",
       "      <td>...</td>\n",
       "    </tr>\n",
       "    <tr>\n",
       "      <th>31973</th>\n",
       "      <td>Local-gov</td>\n",
       "      <td>HS-grad</td>\n",
       "      <td>Never-married</td>\n",
       "      <td>Farming-fishing</td>\n",
       "      <td>Not-in-family</td>\n",
       "      <td>Black</td>\n",
       "      <td>Male</td>\n",
       "      <td>United-States</td>\n",
       "      <td>less than or equal to 50,000</td>\n",
       "    </tr>\n",
       "    <tr>\n",
       "      <th>31974</th>\n",
       "      <td>Local-gov</td>\n",
       "      <td>Some-college</td>\n",
       "      <td>Never-married</td>\n",
       "      <td>Protective-serv</td>\n",
       "      <td>Not-in-family</td>\n",
       "      <td>White</td>\n",
       "      <td>Female</td>\n",
       "      <td>United-States</td>\n",
       "      <td>less than or equal to 50,000</td>\n",
       "    </tr>\n",
       "    <tr>\n",
       "      <th>31975</th>\n",
       "      <td>Private</td>\n",
       "      <td>Some-college</td>\n",
       "      <td>Married-civ-spouse</td>\n",
       "      <td>Adm-clerical</td>\n",
       "      <td>Husband</td>\n",
       "      <td>White</td>\n",
       "      <td>Male</td>\n",
       "      <td>United-States</td>\n",
       "      <td>less than or equal to 50,000</td>\n",
       "    </tr>\n",
       "    <tr>\n",
       "      <th>31976</th>\n",
       "      <td>Local-gov</td>\n",
       "      <td>Some-college</td>\n",
       "      <td>Married-civ-spouse</td>\n",
       "      <td>Adm-clerical</td>\n",
       "      <td>Wife</td>\n",
       "      <td>White</td>\n",
       "      <td>Female</td>\n",
       "      <td>United-States</td>\n",
       "      <td>less than or equal to 50,000</td>\n",
       "    </tr>\n",
       "    <tr>\n",
       "      <th>31977</th>\n",
       "      <td>Private</td>\n",
       "      <td>Bachelors</td>\n",
       "      <td>Never-married</td>\n",
       "      <td>Prof-specialty</td>\n",
       "      <td>Not-in-family</td>\n",
       "      <td>White</td>\n",
       "      <td>Male</td>\n",
       "      <td>United-States</td>\n",
       "      <td>less than or equal to 50,000</td>\n",
       "    </tr>\n",
       "  </tbody>\n",
       "</table>\n",
       "<p>31978 rows × 9 columns</p>\n",
       "</div>"
      ],
      "text/plain": [
       "            JobType         EdType        maritalstatus        occupation  \\\n",
       "0           Private        HS-grad             Divorced      Adm-clerical   \n",
       "1       Federal-gov        HS-grad        Never-married      Armed-Forces   \n",
       "2           Private   Some-college   Married-civ-spouse    Prof-specialty   \n",
       "3           Private            9th        Never-married      Craft-repair   \n",
       "4           Private   Some-college        Never-married             Sales   \n",
       "...             ...            ...                  ...               ...   \n",
       "31973     Local-gov        HS-grad        Never-married   Farming-fishing   \n",
       "31974     Local-gov   Some-college        Never-married   Protective-serv   \n",
       "31975       Private   Some-college   Married-civ-spouse      Adm-clerical   \n",
       "31976     Local-gov   Some-college   Married-civ-spouse      Adm-clerical   \n",
       "31977       Private      Bachelors        Never-married    Prof-specialty   \n",
       "\n",
       "          relationship    race   gender   nativecountry  \\\n",
       "0        Not-in-family   White   Female   United-States   \n",
       "1            Own-child   White     Male   United-States   \n",
       "2              Husband   White     Male   United-States   \n",
       "3       Other-relative   White     Male          Mexico   \n",
       "4        Not-in-family   White     Male   United-States   \n",
       "...                ...     ...      ...             ...   \n",
       "31973    Not-in-family   Black     Male   United-States   \n",
       "31974    Not-in-family   White   Female   United-States   \n",
       "31975          Husband   White     Male   United-States   \n",
       "31976             Wife   White   Female   United-States   \n",
       "31977    Not-in-family   White     Male   United-States   \n",
       "\n",
       "                             SalStat  \n",
       "0       less than or equal to 50,000  \n",
       "1       less than or equal to 50,000  \n",
       "2                greater than 50,000  \n",
       "3       less than or equal to 50,000  \n",
       "4       less than or equal to 50,000  \n",
       "...                              ...  \n",
       "31973   less than or equal to 50,000  \n",
       "31974   less than or equal to 50,000  \n",
       "31975   less than or equal to 50,000  \n",
       "31976   less than or equal to 50,000  \n",
       "31977   less than or equal to 50,000  \n",
       "\n",
       "[31978 rows x 9 columns]"
      ]
     },
     "execution_count": 173,
     "metadata": {},
     "output_type": "execute_result"
    }
   ],
   "source": [
    "data.select_dtypes(include = 'O')"
   ]
  },
  {
   "cell_type": "code",
   "execution_count": 174,
   "id": "033839d9-741b-4743-8a4c-125641730383",
   "metadata": {},
   "outputs": [
    {
     "data": {
      "text/html": [
       "<div>\n",
       "<style scoped>\n",
       "    .dataframe tbody tr th:only-of-type {\n",
       "        vertical-align: middle;\n",
       "    }\n",
       "\n",
       "    .dataframe tbody tr th {\n",
       "        vertical-align: top;\n",
       "    }\n",
       "\n",
       "    .dataframe thead th {\n",
       "        text-align: right;\n",
       "    }\n",
       "</style>\n",
       "<table border=\"1\" class=\"dataframe\">\n",
       "  <thead>\n",
       "    <tr style=\"text-align: right;\">\n",
       "      <th></th>\n",
       "      <th>age</th>\n",
       "      <th>capitalgain</th>\n",
       "      <th>capitalloss</th>\n",
       "      <th>hoursperweek</th>\n",
       "    </tr>\n",
       "  </thead>\n",
       "  <tbody>\n",
       "    <tr>\n",
       "      <th>0</th>\n",
       "      <td>45</td>\n",
       "      <td>0</td>\n",
       "      <td>0</td>\n",
       "      <td>28</td>\n",
       "    </tr>\n",
       "    <tr>\n",
       "      <th>1</th>\n",
       "      <td>24</td>\n",
       "      <td>0</td>\n",
       "      <td>0</td>\n",
       "      <td>40</td>\n",
       "    </tr>\n",
       "    <tr>\n",
       "      <th>2</th>\n",
       "      <td>44</td>\n",
       "      <td>0</td>\n",
       "      <td>0</td>\n",
       "      <td>40</td>\n",
       "    </tr>\n",
       "    <tr>\n",
       "      <th>3</th>\n",
       "      <td>27</td>\n",
       "      <td>0</td>\n",
       "      <td>0</td>\n",
       "      <td>40</td>\n",
       "    </tr>\n",
       "    <tr>\n",
       "      <th>4</th>\n",
       "      <td>20</td>\n",
       "      <td>0</td>\n",
       "      <td>0</td>\n",
       "      <td>35</td>\n",
       "    </tr>\n",
       "    <tr>\n",
       "      <th>...</th>\n",
       "      <td>...</td>\n",
       "      <td>...</td>\n",
       "      <td>...</td>\n",
       "      <td>...</td>\n",
       "    </tr>\n",
       "    <tr>\n",
       "      <th>31973</th>\n",
       "      <td>34</td>\n",
       "      <td>594</td>\n",
       "      <td>0</td>\n",
       "      <td>60</td>\n",
       "    </tr>\n",
       "    <tr>\n",
       "      <th>31974</th>\n",
       "      <td>34</td>\n",
       "      <td>0</td>\n",
       "      <td>0</td>\n",
       "      <td>40</td>\n",
       "    </tr>\n",
       "    <tr>\n",
       "      <th>31975</th>\n",
       "      <td>23</td>\n",
       "      <td>0</td>\n",
       "      <td>0</td>\n",
       "      <td>40</td>\n",
       "    </tr>\n",
       "    <tr>\n",
       "      <th>31976</th>\n",
       "      <td>42</td>\n",
       "      <td>0</td>\n",
       "      <td>0</td>\n",
       "      <td>40</td>\n",
       "    </tr>\n",
       "    <tr>\n",
       "      <th>31977</th>\n",
       "      <td>29</td>\n",
       "      <td>0</td>\n",
       "      <td>0</td>\n",
       "      <td>40</td>\n",
       "    </tr>\n",
       "  </tbody>\n",
       "</table>\n",
       "<p>31978 rows × 4 columns</p>\n",
       "</div>"
      ],
      "text/plain": [
       "       age  capitalgain  capitalloss  hoursperweek\n",
       "0       45            0            0            28\n",
       "1       24            0            0            40\n",
       "2       44            0            0            40\n",
       "3       27            0            0            40\n",
       "4       20            0            0            35\n",
       "...    ...          ...          ...           ...\n",
       "31973   34          594            0            60\n",
       "31974   34            0            0            40\n",
       "31975   23            0            0            40\n",
       "31976   42            0            0            40\n",
       "31977   29            0            0            40\n",
       "\n",
       "[31978 rows x 4 columns]"
      ]
     },
     "execution_count": 174,
     "metadata": {},
     "output_type": "execute_result"
    }
   ],
   "source": [
    "data.select_dtypes(include = 'int')"
   ]
  },
  {
   "cell_type": "code",
   "execution_count": 175,
   "id": "bed14942-3034-422b-9c51-c1b02c457110",
   "metadata": {},
   "outputs": [
    {
     "data": {
      "text/plain": [
       "age              0\n",
       "JobType          0\n",
       "EdType           0\n",
       "maritalstatus    0\n",
       "occupation       0\n",
       "relationship     0\n",
       "race             0\n",
       "gender           0\n",
       "capitalgain      0\n",
       "capitalloss      0\n",
       "hoursperweek     0\n",
       "nativecountry    0\n",
       "SalStat          0\n",
       "dtype: int64"
      ]
     },
     "execution_count": 175,
     "metadata": {},
     "output_type": "execute_result"
    }
   ],
   "source": [
    "# checking for missing values\n",
    "data.isnull().sum()"
   ]
  },
  {
   "cell_type": "code",
   "execution_count": 176,
   "id": "411a6efc-608c-45f4-b8ea-40555a26c662",
   "metadata": {},
   "outputs": [
    {
     "data": {
      "text/plain": [
       "3462"
      ]
     },
     "execution_count": 176,
     "metadata": {},
     "output_type": "execute_result"
    }
   ],
   "source": [
    "# checking for dupliates\n",
    "data.duplicated().sum()"
   ]
  },
  {
   "cell_type": "code",
   "execution_count": 177,
   "id": "81d985d7-6905-4e49-9c22-7899d3595f93",
   "metadata": {},
   "outputs": [
    {
     "data": {
      "text/html": [
       "<div>\n",
       "<style scoped>\n",
       "    .dataframe tbody tr th:only-of-type {\n",
       "        vertical-align: middle;\n",
       "    }\n",
       "\n",
       "    .dataframe tbody tr th {\n",
       "        vertical-align: top;\n",
       "    }\n",
       "\n",
       "    .dataframe thead th {\n",
       "        text-align: right;\n",
       "    }\n",
       "</style>\n",
       "<table border=\"1\" class=\"dataframe\">\n",
       "  <thead>\n",
       "    <tr style=\"text-align: right;\">\n",
       "      <th></th>\n",
       "      <th>age</th>\n",
       "      <th>JobType</th>\n",
       "      <th>EdType</th>\n",
       "      <th>maritalstatus</th>\n",
       "      <th>occupation</th>\n",
       "      <th>relationship</th>\n",
       "      <th>race</th>\n",
       "      <th>gender</th>\n",
       "      <th>capitalgain</th>\n",
       "      <th>capitalloss</th>\n",
       "      <th>hoursperweek</th>\n",
       "      <th>nativecountry</th>\n",
       "      <th>SalStat</th>\n",
       "    </tr>\n",
       "  </thead>\n",
       "  <tbody>\n",
       "    <tr>\n",
       "      <th>416</th>\n",
       "      <td>33</td>\n",
       "      <td>Private</td>\n",
       "      <td>HS-grad</td>\n",
       "      <td>Married-civ-spouse</td>\n",
       "      <td>Machine-op-inspct</td>\n",
       "      <td>Husband</td>\n",
       "      <td>White</td>\n",
       "      <td>Male</td>\n",
       "      <td>0</td>\n",
       "      <td>0</td>\n",
       "      <td>40</td>\n",
       "      <td>United-States</td>\n",
       "      <td>less than or equal to 50,000</td>\n",
       "    </tr>\n",
       "    <tr>\n",
       "      <th>495</th>\n",
       "      <td>20</td>\n",
       "      <td>Private</td>\n",
       "      <td>HS-grad</td>\n",
       "      <td>Married-civ-spouse</td>\n",
       "      <td>Machine-op-inspct</td>\n",
       "      <td>Husband</td>\n",
       "      <td>White</td>\n",
       "      <td>Male</td>\n",
       "      <td>0</td>\n",
       "      <td>0</td>\n",
       "      <td>40</td>\n",
       "      <td>United-States</td>\n",
       "      <td>less than or equal to 50,000</td>\n",
       "    </tr>\n",
       "    <tr>\n",
       "      <th>598</th>\n",
       "      <td>61</td>\n",
       "      <td>Private</td>\n",
       "      <td>HS-grad</td>\n",
       "      <td>Married-civ-spouse</td>\n",
       "      <td>Machine-op-inspct</td>\n",
       "      <td>Husband</td>\n",
       "      <td>White</td>\n",
       "      <td>Male</td>\n",
       "      <td>0</td>\n",
       "      <td>0</td>\n",
       "      <td>40</td>\n",
       "      <td>United-States</td>\n",
       "      <td>less than or equal to 50,000</td>\n",
       "    </tr>\n",
       "    <tr>\n",
       "      <th>1002</th>\n",
       "      <td>39</td>\n",
       "      <td>Private</td>\n",
       "      <td>HS-grad</td>\n",
       "      <td>Married-civ-spouse</td>\n",
       "      <td>Transport-moving</td>\n",
       "      <td>Husband</td>\n",
       "      <td>White</td>\n",
       "      <td>Male</td>\n",
       "      <td>0</td>\n",
       "      <td>0</td>\n",
       "      <td>40</td>\n",
       "      <td>United-States</td>\n",
       "      <td>greater than 50,000</td>\n",
       "    </tr>\n",
       "    <tr>\n",
       "      <th>1196</th>\n",
       "      <td>44</td>\n",
       "      <td>Private</td>\n",
       "      <td>Bachelors</td>\n",
       "      <td>Married-civ-spouse</td>\n",
       "      <td>Exec-managerial</td>\n",
       "      <td>Husband</td>\n",
       "      <td>White</td>\n",
       "      <td>Male</td>\n",
       "      <td>0</td>\n",
       "      <td>0</td>\n",
       "      <td>40</td>\n",
       "      <td>United-States</td>\n",
       "      <td>greater than 50,000</td>\n",
       "    </tr>\n",
       "    <tr>\n",
       "      <th>...</th>\n",
       "      <td>...</td>\n",
       "      <td>...</td>\n",
       "      <td>...</td>\n",
       "      <td>...</td>\n",
       "      <td>...</td>\n",
       "      <td>...</td>\n",
       "      <td>...</td>\n",
       "      <td>...</td>\n",
       "      <td>...</td>\n",
       "      <td>...</td>\n",
       "      <td>...</td>\n",
       "      <td>...</td>\n",
       "      <td>...</td>\n",
       "    </tr>\n",
       "    <tr>\n",
       "      <th>31949</th>\n",
       "      <td>33</td>\n",
       "      <td>Private</td>\n",
       "      <td>Some-college</td>\n",
       "      <td>Divorced</td>\n",
       "      <td>Exec-managerial</td>\n",
       "      <td>Unmarried</td>\n",
       "      <td>White</td>\n",
       "      <td>Female</td>\n",
       "      <td>0</td>\n",
       "      <td>0</td>\n",
       "      <td>40</td>\n",
       "      <td>United-States</td>\n",
       "      <td>less than or equal to 50,000</td>\n",
       "    </tr>\n",
       "    <tr>\n",
       "      <th>31962</th>\n",
       "      <td>25</td>\n",
       "      <td>Private</td>\n",
       "      <td>HS-grad</td>\n",
       "      <td>Married-civ-spouse</td>\n",
       "      <td>Transport-moving</td>\n",
       "      <td>Husband</td>\n",
       "      <td>White</td>\n",
       "      <td>Male</td>\n",
       "      <td>0</td>\n",
       "      <td>0</td>\n",
       "      <td>60</td>\n",
       "      <td>United-States</td>\n",
       "      <td>less than or equal to 50,000</td>\n",
       "    </tr>\n",
       "    <tr>\n",
       "      <th>31965</th>\n",
       "      <td>63</td>\n",
       "      <td>Self-emp-inc</td>\n",
       "      <td>HS-grad</td>\n",
       "      <td>Married-civ-spouse</td>\n",
       "      <td>Exec-managerial</td>\n",
       "      <td>Husband</td>\n",
       "      <td>White</td>\n",
       "      <td>Male</td>\n",
       "      <td>0</td>\n",
       "      <td>0</td>\n",
       "      <td>40</td>\n",
       "      <td>United-States</td>\n",
       "      <td>greater than 50,000</td>\n",
       "    </tr>\n",
       "    <tr>\n",
       "      <th>31968</th>\n",
       "      <td>17</td>\n",
       "      <td>?</td>\n",
       "      <td>11th</td>\n",
       "      <td>Never-married</td>\n",
       "      <td>?</td>\n",
       "      <td>Own-child</td>\n",
       "      <td>White</td>\n",
       "      <td>Male</td>\n",
       "      <td>0</td>\n",
       "      <td>0</td>\n",
       "      <td>40</td>\n",
       "      <td>United-States</td>\n",
       "      <td>less than or equal to 50,000</td>\n",
       "    </tr>\n",
       "    <tr>\n",
       "      <th>31977</th>\n",
       "      <td>29</td>\n",
       "      <td>Private</td>\n",
       "      <td>Bachelors</td>\n",
       "      <td>Never-married</td>\n",
       "      <td>Prof-specialty</td>\n",
       "      <td>Not-in-family</td>\n",
       "      <td>White</td>\n",
       "      <td>Male</td>\n",
       "      <td>0</td>\n",
       "      <td>0</td>\n",
       "      <td>40</td>\n",
       "      <td>United-States</td>\n",
       "      <td>less than or equal to 50,000</td>\n",
       "    </tr>\n",
       "  </tbody>\n",
       "</table>\n",
       "<p>3462 rows × 13 columns</p>\n",
       "</div>"
      ],
      "text/plain": [
       "       age        JobType         EdType        maritalstatus  \\\n",
       "416     33        Private        HS-grad   Married-civ-spouse   \n",
       "495     20        Private        HS-grad   Married-civ-spouse   \n",
       "598     61        Private        HS-grad   Married-civ-spouse   \n",
       "1002    39        Private        HS-grad   Married-civ-spouse   \n",
       "1196    44        Private      Bachelors   Married-civ-spouse   \n",
       "...    ...            ...            ...                  ...   \n",
       "31949   33        Private   Some-college             Divorced   \n",
       "31962   25        Private        HS-grad   Married-civ-spouse   \n",
       "31965   63   Self-emp-inc        HS-grad   Married-civ-spouse   \n",
       "31968   17              ?           11th        Never-married   \n",
       "31977   29        Private      Bachelors        Never-married   \n",
       "\n",
       "               occupation    relationship    race   gender  capitalgain  \\\n",
       "416     Machine-op-inspct         Husband   White     Male            0   \n",
       "495     Machine-op-inspct         Husband   White     Male            0   \n",
       "598     Machine-op-inspct         Husband   White     Male            0   \n",
       "1002     Transport-moving         Husband   White     Male            0   \n",
       "1196      Exec-managerial         Husband   White     Male            0   \n",
       "...                   ...             ...     ...      ...          ...   \n",
       "31949     Exec-managerial       Unmarried   White   Female            0   \n",
       "31962    Transport-moving         Husband   White     Male            0   \n",
       "31965     Exec-managerial         Husband   White     Male            0   \n",
       "31968                   ?       Own-child   White     Male            0   \n",
       "31977      Prof-specialty   Not-in-family   White     Male            0   \n",
       "\n",
       "       capitalloss  hoursperweek   nativecountry  \\\n",
       "416              0            40   United-States   \n",
       "495              0            40   United-States   \n",
       "598              0            40   United-States   \n",
       "1002             0            40   United-States   \n",
       "1196             0            40   United-States   \n",
       "...            ...           ...             ...   \n",
       "31949            0            40   United-States   \n",
       "31962            0            60   United-States   \n",
       "31965            0            40   United-States   \n",
       "31968            0            40   United-States   \n",
       "31977            0            40   United-States   \n",
       "\n",
       "                             SalStat  \n",
       "416     less than or equal to 50,000  \n",
       "495     less than or equal to 50,000  \n",
       "598     less than or equal to 50,000  \n",
       "1002             greater than 50,000  \n",
       "1196             greater than 50,000  \n",
       "...                              ...  \n",
       "31949   less than or equal to 50,000  \n",
       "31962   less than or equal to 50,000  \n",
       "31965            greater than 50,000  \n",
       "31968   less than or equal to 50,000  \n",
       "31977   less than or equal to 50,000  \n",
       "\n",
       "[3462 rows x 13 columns]"
      ]
     },
     "execution_count": 177,
     "metadata": {},
     "output_type": "execute_result"
    }
   ],
   "source": [
    "data[data.duplicated()]"
   ]
  },
  {
   "cell_type": "code",
   "execution_count": 178,
   "id": "fbb7ee5f-9ce7-4c5e-ac3a-814ff4b3cdbc",
   "metadata": {},
   "outputs": [
    {
     "name": "stdout",
     "output_type": "stream",
     "text": [
      "                age   capitalgain   capitalloss  hoursperweek\n",
      "count  31978.000000  31978.000000  31978.000000  31978.000000\n",
      "mean      38.579023   1064.360623     86.739352     40.417850\n",
      "std       13.662085   7298.596271    401.594301     12.345285\n",
      "min       17.000000      0.000000      0.000000      1.000000\n",
      "25%       28.000000      0.000000      0.000000     40.000000\n",
      "50%       37.000000      0.000000      0.000000     40.000000\n",
      "75%       48.000000      0.000000      0.000000     45.000000\n",
      "max       90.000000  99999.000000   4356.000000     99.000000\n"
     ]
    }
   ],
   "source": [
    "# Summary of numerical variables\n",
    "\n",
    "summary_num = data.describe()\n",
    "print(summary_num)"
   ]
  },
  {
   "cell_type": "code",
   "execution_count": 179,
   "id": "439f7c7d-3df5-4734-ac4d-3311cd256dde",
   "metadata": {},
   "outputs": [
    {
     "name": "stdout",
     "output_type": "stream",
     "text": [
      "               count unique                            top   freq\n",
      "JobType        31978      9                        Private  22286\n",
      "EdType         31978     16                        HS-grad  10368\n",
      "maritalstatus  31978      7             Married-civ-spouse  14692\n",
      "occupation     31978     15                 Prof-specialty   4038\n",
      "relationship   31978      6                        Husband  12947\n",
      "race           31978      5                          White  27430\n",
      "gender         31978      2                           Male  21370\n",
      "nativecountry  31978     41                  United-States  29170\n",
      "SalStat        31978      2   less than or equal to 50,000  24283\n"
     ]
    }
   ],
   "source": [
    "# Summary of categorical var\n",
    "summary_cat = data.describe(include = 'O')\n",
    "print(summary_cat.T)"
   ]
  },
  {
   "cell_type": "code",
   "execution_count": 180,
   "id": "fe1b959e-a5b4-468a-b103-937665c86e23",
   "metadata": {},
   "outputs": [
    {
     "name": "stdout",
     "output_type": "stream",
     "text": [
      "Number of categories of JobType : 9\n",
      "JobType\n",
      "Private             22286\n",
      "Self-emp-not-inc     2499\n",
      "Local-gov            2067\n",
      "?                    1809\n",
      "State-gov            1279\n",
      "Self-emp-inc         1074\n",
      "Federal-gov           943\n",
      "Without-pay            14\n",
      "Never-worked            7\n",
      "Name: count, dtype: int64\n",
      "\n",
      "Number of categories of EdType : 16\n",
      "EdType\n",
      "HS-grad         10368\n",
      "Some-college     7187\n",
      "Bachelors        5210\n",
      "Masters          1674\n",
      "Assoc-voc        1366\n",
      "11th             1167\n",
      "Assoc-acdm       1055\n",
      "10th              921\n",
      "7th-8th           627\n",
      "Prof-school       559\n",
      "9th               506\n",
      "12th              417\n",
      "Doctorate         390\n",
      "5th-6th           318\n",
      "1st-4th           163\n",
      "Preschool          50\n",
      "Name: count, dtype: int64\n",
      "\n",
      "Number of categories of maritalstatus : 7\n",
      "maritalstatus\n",
      "Married-civ-spouse       14692\n",
      "Never-married            10488\n",
      "Divorced                  4394\n",
      "Separated                 1005\n",
      "Widowed                    979\n",
      "Married-spouse-absent      397\n",
      "Married-AF-spouse           23\n",
      "Name: count, dtype: int64\n",
      "\n",
      "Number of categories of occupation : 15\n",
      "occupation\n",
      "Prof-specialty       4038\n",
      "Craft-repair         4030\n",
      "Exec-managerial      3992\n",
      "Adm-clerical         3721\n",
      "Sales                3584\n",
      "Other-service        3212\n",
      "Machine-op-inspct    1966\n",
      "?                    1816\n",
      "Transport-moving     1572\n",
      "Handlers-cleaners    1350\n",
      "Farming-fishing       989\n",
      "Tech-support          912\n",
      "Protective-serv       644\n",
      "Priv-house-serv       143\n",
      "Armed-Forces            9\n",
      "Name: count, dtype: int64\n",
      "\n",
      "Number of categories of relationship : 6\n",
      "relationship\n",
      "Husband           12947\n",
      "Not-in-family      8156\n",
      "Own-child          5005\n",
      "Unmarried          3384\n",
      "Wife               1534\n",
      "Other-relative      952\n",
      "Name: count, dtype: int64\n",
      "\n",
      "Number of categories of race : 5\n",
      "race\n",
      "White                 27430\n",
      "Black                  3028\n",
      "Asian-Pac-Islander      956\n",
      "Amer-Indian-Eskimo      311\n",
      "Other                   253\n",
      "Name: count, dtype: int64\n",
      "\n",
      "Number of categories of gender : 2\n",
      "gender\n",
      "Male      21370\n",
      "Female    10608\n",
      "Name: count, dtype: int64\n",
      "\n",
      "Number of categories of nativecountry : 41\n",
      "nativecountry\n",
      "United-States                 29170\n",
      "Mexico                          643\n",
      "Philippines                     198\n",
      "Germany                         137\n",
      "Canada                          121\n",
      "Puerto-Rico                     114\n",
      "El-Salvador                     106\n",
      "India                           100\n",
      "Cuba                             95\n",
      "England                          90\n",
      "Jamaica                          81\n",
      "South                            80\n",
      "China                            75\n",
      "Italy                            73\n",
      "Dominican-Republic               70\n",
      "Vietnam                          67\n",
      "Guatemala                        64\n",
      "Japan                            62\n",
      "Poland                           60\n",
      "Columbia                         59\n",
      "Taiwan                           51\n",
      "Haiti                            44\n",
      "Iran                             43\n",
      "Portugal                         37\n",
      "Nicaragua                        34\n",
      "Peru                             31\n",
      "France                           29\n",
      "Greece                           29\n",
      "Ecuador                          28\n",
      "Ireland                          24\n",
      "Hong                             20\n",
      "Trinadad&Tobago                  19\n",
      "Cambodia                         19\n",
      "Thailand                         18\n",
      "Laos                             18\n",
      "Yugoslavia                       16\n",
      "Outlying-US(Guam-USVI-etc)       14\n",
      "Honduras                         13\n",
      "Hungary                          13\n",
      "Scotland                         12\n",
      "Holand-Netherlands                1\n",
      "Name: count, dtype: int64\n",
      "\n",
      "Number of categories of SalStat : 2\n",
      "SalStat\n",
      "less than or equal to 50,000    24283\n",
      "greater than 50,000              7695\n",
      "Name: count, dtype: int64\n",
      "\n"
     ]
    }
   ],
   "source": [
    "# Frequency of each category of categorical var\n",
    "\n",
    "for i in data.columns[data.dtypes == 'object']:\n",
    "    print('Number of categories of',data[i].name, ':', data[i].nunique() )\n",
    "    print(data[i].value_counts())\n",
    "    print()"
   ]
  },
  {
   "cell_type": "code",
   "execution_count": 181,
   "id": "852c2d2b-c49a-4b21-8d35-f1bdc547a55f",
   "metadata": {},
   "outputs": [],
   "source": [
    "# replacing '?' : nan\n",
    "data = data.replace(' ?', np.nan)"
   ]
  },
  {
   "cell_type": "code",
   "execution_count": 182,
   "id": "9b2cd5c0-d0a6-40d1-a574-1562e173fe83",
   "metadata": {},
   "outputs": [
    {
     "data": {
      "text/plain": [
       "age                 0\n",
       "JobType          1809\n",
       "EdType              0\n",
       "maritalstatus       0\n",
       "occupation       1816\n",
       "relationship        0\n",
       "race                0\n",
       "gender              0\n",
       "capitalgain         0\n",
       "capitalloss         0\n",
       "hoursperweek        0\n",
       "nativecountry       0\n",
       "SalStat             0\n",
       "dtype: int64"
      ]
     },
     "execution_count": 182,
     "metadata": {},
     "output_type": "execute_result"
    }
   ],
   "source": [
    "data.isnull().sum()"
   ]
  },
  {
   "cell_type": "code",
   "execution_count": 183,
   "id": "5e42ef57-9a1c-49cc-a3b9-ee9c5ae58c79",
   "metadata": {},
   "outputs": [
    {
     "name": "stdout",
     "output_type": "stream",
     "text": [
      "                age   capitalgain   capitalloss  hoursperweek\n",
      "count  31978.000000  31978.000000  31978.000000  31978.000000\n",
      "mean      38.579023   1064.360623     86.739352     40.417850\n",
      "std       13.662085   7298.596271    401.594301     12.345285\n",
      "min       17.000000      0.000000      0.000000      1.000000\n",
      "25%       28.000000      0.000000      0.000000     40.000000\n",
      "50%       37.000000      0.000000      0.000000     40.000000\n",
      "75%       48.000000      0.000000      0.000000     45.000000\n",
      "max       90.000000  99999.000000   4356.000000     99.000000\n"
     ]
    }
   ],
   "source": [
    "summary_num = data.describe()\n",
    "print(summary_num)"
   ]
  },
  {
   "cell_type": "code",
   "execution_count": 184,
   "id": "77d3aa29-5c71-4a3a-bec3-5540cddfb5c5",
   "metadata": {},
   "outputs": [
    {
     "name": "stdout",
     "output_type": "stream",
     "text": [
      "Number of categories of JobType : 8\n",
      "JobType\n",
      "Private             22286\n",
      "Self-emp-not-inc     2499\n",
      "Local-gov            2067\n",
      "State-gov            1279\n",
      "Self-emp-inc         1074\n",
      "Federal-gov           943\n",
      "Without-pay            14\n",
      "Never-worked            7\n",
      "Name: count, dtype: int64\n",
      "\n",
      "Number of categories of EdType : 16\n",
      "EdType\n",
      "HS-grad         10368\n",
      "Some-college     7187\n",
      "Bachelors        5210\n",
      "Masters          1674\n",
      "Assoc-voc        1366\n",
      "11th             1167\n",
      "Assoc-acdm       1055\n",
      "10th              921\n",
      "7th-8th           627\n",
      "Prof-school       559\n",
      "9th               506\n",
      "12th              417\n",
      "Doctorate         390\n",
      "5th-6th           318\n",
      "1st-4th           163\n",
      "Preschool          50\n",
      "Name: count, dtype: int64\n",
      "\n",
      "Number of categories of maritalstatus : 7\n",
      "maritalstatus\n",
      "Married-civ-spouse       14692\n",
      "Never-married            10488\n",
      "Divorced                  4394\n",
      "Separated                 1005\n",
      "Widowed                    979\n",
      "Married-spouse-absent      397\n",
      "Married-AF-spouse           23\n",
      "Name: count, dtype: int64\n",
      "\n",
      "Number of categories of occupation : 14\n",
      "occupation\n",
      "Prof-specialty       4038\n",
      "Craft-repair         4030\n",
      "Exec-managerial      3992\n",
      "Adm-clerical         3721\n",
      "Sales                3584\n",
      "Other-service        3212\n",
      "Machine-op-inspct    1966\n",
      "Transport-moving     1572\n",
      "Handlers-cleaners    1350\n",
      "Farming-fishing       989\n",
      "Tech-support          912\n",
      "Protective-serv       644\n",
      "Priv-house-serv       143\n",
      "Armed-Forces            9\n",
      "Name: count, dtype: int64\n",
      "\n",
      "Number of categories of relationship : 6\n",
      "relationship\n",
      "Husband           12947\n",
      "Not-in-family      8156\n",
      "Own-child          5005\n",
      "Unmarried          3384\n",
      "Wife               1534\n",
      "Other-relative      952\n",
      "Name: count, dtype: int64\n",
      "\n",
      "Number of categories of race : 5\n",
      "race\n",
      "White                 27430\n",
      "Black                  3028\n",
      "Asian-Pac-Islander      956\n",
      "Amer-Indian-Eskimo      311\n",
      "Other                   253\n",
      "Name: count, dtype: int64\n",
      "\n",
      "Number of categories of gender : 2\n",
      "gender\n",
      "Male      21370\n",
      "Female    10608\n",
      "Name: count, dtype: int64\n",
      "\n",
      "Number of categories of nativecountry : 41\n",
      "nativecountry\n",
      "United-States                 29170\n",
      "Mexico                          643\n",
      "Philippines                     198\n",
      "Germany                         137\n",
      "Canada                          121\n",
      "Puerto-Rico                     114\n",
      "El-Salvador                     106\n",
      "India                           100\n",
      "Cuba                             95\n",
      "England                          90\n",
      "Jamaica                          81\n",
      "South                            80\n",
      "China                            75\n",
      "Italy                            73\n",
      "Dominican-Republic               70\n",
      "Vietnam                          67\n",
      "Guatemala                        64\n",
      "Japan                            62\n",
      "Poland                           60\n",
      "Columbia                         59\n",
      "Taiwan                           51\n",
      "Haiti                            44\n",
      "Iran                             43\n",
      "Portugal                         37\n",
      "Nicaragua                        34\n",
      "Peru                             31\n",
      "France                           29\n",
      "Greece                           29\n",
      "Ecuador                          28\n",
      "Ireland                          24\n",
      "Hong                             20\n",
      "Trinadad&Tobago                  19\n",
      "Cambodia                         19\n",
      "Thailand                         18\n",
      "Laos                             18\n",
      "Yugoslavia                       16\n",
      "Outlying-US(Guam-USVI-etc)       14\n",
      "Honduras                         13\n",
      "Hungary                          13\n",
      "Scotland                         12\n",
      "Holand-Netherlands                1\n",
      "Name: count, dtype: int64\n",
      "\n",
      "Number of categories of SalStat : 2\n",
      "SalStat\n",
      "less than or equal to 50,000    24283\n",
      "greater than 50,000              7695\n",
      "Name: count, dtype: int64\n",
      "\n"
     ]
    }
   ],
   "source": [
    "# new categorization\n",
    "for i in data.columns[data.dtypes == 'object']:\n",
    "    print('Number of categories of',data[i].name, ':', data[i].nunique() )\n",
    "    print(data[i].value_counts())\n",
    "    print()"
   ]
  },
  {
   "cell_type": "markdown",
   "id": "e13fdac4-fd40-4150-8f23-c438c6700b22",
   "metadata": {},
   "source": [
    "# Step6 - Data Preprocessing"
   ]
  },
  {
   "cell_type": "code",
   "execution_count": 186,
   "id": "4367c1a4-de6d-4a02-a062-99adea507418",
   "metadata": {},
   "outputs": [
    {
     "data": {
      "text/plain": [
       "age                 0\n",
       "JobType          1809\n",
       "EdType              0\n",
       "maritalstatus       0\n",
       "occupation       1816\n",
       "relationship        0\n",
       "race                0\n",
       "gender              0\n",
       "capitalgain         0\n",
       "capitalloss         0\n",
       "hoursperweek        0\n",
       "nativecountry       0\n",
       "SalStat             0\n",
       "dtype: int64"
      ]
     },
     "execution_count": 186,
     "metadata": {},
     "output_type": "execute_result"
    }
   ],
   "source": [
    "data.isnull().sum()"
   ]
  },
  {
   "cell_type": "code",
   "execution_count": 187,
   "id": "9521ab5e-0966-4f9f-a5e3-29e390e4fc54",
   "metadata": {},
   "outputs": [],
   "source": [
    "missing = data[data.isnull().any(axis = 1)]"
   ]
  },
  {
   "cell_type": "code",
   "execution_count": 188,
   "id": "584a1b86-553b-4a76-b38d-98f66142450a",
   "metadata": {},
   "outputs": [],
   "source": [
    "# null values in JobType = 1809\n",
    "# null values in Occupation = 1816\n",
    "# There are 1809 rows where 'Jobtype' and 'Occupation' has null values\n",
    "# The remaining 7 missing values for occupation is because job type is 'never worked' there.\n"
   ]
  },
  {
   "cell_type": "code",
   "execution_count": 189,
   "id": "acc51670-a968-4be0-bffc-9e03dda4d23e",
   "metadata": {},
   "outputs": [],
   "source": [
    "# dealing with missing values\n",
    "data2 = data.dropna(axis = 0) #drop rows containing nan values"
   ]
  },
  {
   "cell_type": "code",
   "execution_count": 190,
   "id": "83715c26-3c53-4d78-8e29-70e42359a77b",
   "metadata": {},
   "outputs": [],
   "source": [
    "# Relationship with independent variables\n",
    "numerical_df = data2.select_dtypes(include=['number'])\n",
    "correlation = numerical_df.corr()"
   ]
  },
  {
   "cell_type": "code",
   "execution_count": 191,
   "id": "6a78e0ce-db7d-4224-a8b6-5e01ee08123b",
   "metadata": {},
   "outputs": [
    {
     "data": {
      "text/html": [
       "<div>\n",
       "<style scoped>\n",
       "    .dataframe tbody tr th:only-of-type {\n",
       "        vertical-align: middle;\n",
       "    }\n",
       "\n",
       "    .dataframe tbody tr th {\n",
       "        vertical-align: top;\n",
       "    }\n",
       "\n",
       "    .dataframe thead th {\n",
       "        text-align: right;\n",
       "    }\n",
       "</style>\n",
       "<table border=\"1\" class=\"dataframe\">\n",
       "  <thead>\n",
       "    <tr style=\"text-align: right;\">\n",
       "      <th></th>\n",
       "      <th>age</th>\n",
       "      <th>capitalgain</th>\n",
       "      <th>capitalloss</th>\n",
       "      <th>hoursperweek</th>\n",
       "    </tr>\n",
       "  </thead>\n",
       "  <tbody>\n",
       "    <tr>\n",
       "      <th>age</th>\n",
       "      <td>1.000000</td>\n",
       "      <td>0.080154</td>\n",
       "      <td>0.060165</td>\n",
       "      <td>0.101599</td>\n",
       "    </tr>\n",
       "    <tr>\n",
       "      <th>capitalgain</th>\n",
       "      <td>0.080154</td>\n",
       "      <td>1.000000</td>\n",
       "      <td>-0.032229</td>\n",
       "      <td>0.080432</td>\n",
       "    </tr>\n",
       "    <tr>\n",
       "      <th>capitalloss</th>\n",
       "      <td>0.060165</td>\n",
       "      <td>-0.032229</td>\n",
       "      <td>1.000000</td>\n",
       "      <td>0.052417</td>\n",
       "    </tr>\n",
       "    <tr>\n",
       "      <th>hoursperweek</th>\n",
       "      <td>0.101599</td>\n",
       "      <td>0.080432</td>\n",
       "      <td>0.052417</td>\n",
       "      <td>1.000000</td>\n",
       "    </tr>\n",
       "  </tbody>\n",
       "</table>\n",
       "</div>"
      ],
      "text/plain": [
       "                   age  capitalgain  capitalloss  hoursperweek\n",
       "age           1.000000     0.080154     0.060165      0.101599\n",
       "capitalgain   0.080154     1.000000    -0.032229      0.080432\n",
       "capitalloss   0.060165    -0.032229     1.000000      0.052417\n",
       "hoursperweek  0.101599     0.080432     0.052417      1.000000"
      ]
     },
     "execution_count": 191,
     "metadata": {},
     "output_type": "execute_result"
    }
   ],
   "source": [
    "correlation"
   ]
  },
  {
   "cell_type": "code",
   "execution_count": 192,
   "id": "c727101c-8e9a-49f4-97b1-935f5043f1cf",
   "metadata": {},
   "outputs": [
    {
     "data": {
      "text/plain": [
       "<Axes: >"
      ]
     },
     "execution_count": 192,
     "metadata": {},
     "output_type": "execute_result"
    },
    {
     "data": {
      "image/png": "[encoded data removed]",
      "text/plain": [
       "<Figure size 640x480 with 2 Axes>"
      ]
     },
     "metadata": {},
     "output_type": "display_data"
    }
   ],
   "source": [
    "sns.heatmap(correlation)"
   ]
  },
  {
   "cell_type": "markdown",
   "id": "6ddd3607-4194-433b-acd1-a309f64ca68c",
   "metadata": {},
   "source": [
    "# Step7 - crosstable and data visualization\n"
   ]
  },
  {
   "cell_type": "code",
   "execution_count": 194,
   "id": "2c9196df-d4b9-4580-a3f3-69c625b8041e",
   "metadata": {},
   "outputs": [
    {
     "data": {
      "text/plain": [
       "Index(['age', 'JobType', 'EdType', 'maritalstatus', 'occupation',\n",
       "       'relationship', 'race', 'gender', 'capitalgain', 'capitalloss',\n",
       "       'hoursperweek', 'nativecountry', 'SalStat'],\n",
       "      dtype='object')"
      ]
     },
     "execution_count": 194,
     "metadata": {},
     "output_type": "execute_result"
    }
   ],
   "source": [
    "data2.columns"
   ]
  },
  {
   "cell_type": "code",
   "execution_count": 195,
   "id": "9b40eccd-f792-4a28-838b-1c9111fcacf9",
   "metadata": {},
   "outputs": [
    {
     "name": "stdout",
     "output_type": "stream",
     "text": [
      "col_0      count\n",
      "gender          \n",
      "Female  0.324315\n",
      "Male    0.675685\n"
     ]
    },
    {
     "data": {
      "text/plain": [
       "<Axes: xlabel='gender', ylabel='count'>"
      ]
     },
     "execution_count": 195,
     "metadata": {},
     "output_type": "execute_result"
    },
    {
     "data": {
      "image/png": "[encoded data removed]",
      "text/plain": [
       "<Figure size 640x480 with 1 Axes>"
      ]
     },
     "metadata": {},
     "output_type": "display_data"
    }
   ],
   "source": [
    "gender = pd.crosstab(index = data2['gender'], columns = 'count', normalize = True)\n",
    "print(gender)\n",
    "sns.countplot(x = data2['gender'])"
   ]
  },
  {
   "cell_type": "code",
   "execution_count": 196,
   "id": "56fd96a8-2781-47c7-8e62-99da22bb7366",
   "metadata": {},
   "outputs": [
    {
     "name": "stdout",
     "output_type": "stream",
     "text": [
      "SalStat  greater than 50,000  less than or equal to 50,000\n",
      "gender                                                    \n",
      " Female             0.113678                      0.886322\n",
      " Male               0.313837                      0.686163\n",
      "All                 0.248922                      0.751078\n"
     ]
    }
   ],
   "source": [
    "# Gender vs Salary status\n",
    "gender_salstat= pd.crosstab(index =data2['gender'] , columns = data2['SalStat'], margins = True, normalize = 'index' )\n",
    "print(gender_salstat)"
   ]
  },
  {
   "cell_type": "code",
   "execution_count": 197,
   "id": "a76259dd-698a-4745-b1e1-cb69c9154b11",
   "metadata": {},
   "outputs": [
    {
     "name": "stdout",
     "output_type": "stream",
     "text": [
      "col_0                            count\n",
      "SalStat                               \n",
      "greater than 50,000           0.248922\n",
      "less than or equal to 50,000  0.751078\n"
     ]
    },
    {
     "data": {
      "text/plain": [
       "<Axes: xlabel='SalStat', ylabel='count'>"
      ]
     },
     "execution_count": 197,
     "metadata": {},
     "output_type": "execute_result"
    },
    {
     "data": {
      "image/png": "[encoded data removed]",
      "text/plain": [
       "<Figure size 640x480 with 1 Axes>"
      ]
     },
     "metadata": {},
     "output_type": "display_data"
    }
   ],
   "source": [
    "# Frequency distribution of salary_status\n",
    "sal = pd.crosstab(index = data2['SalStat'], columns = 'count', normalize = True)\n",
    "print(sal)\n",
    "SalStat = sns.countplot(x= data2['SalStat'])\n",
    "SalStat"
   ]
  },
  {
   "cell_type": "code",
   "execution_count": 198,
   "id": "17a3d391-01fc-4f26-a900-73f06ac89a35",
   "metadata": {},
   "outputs": [],
   "source": [
    "# insights from above => \n",
    "# 75% people's salary status -> <= 50,000\n",
    "# 25% people's salary status -> > 50,000\n"
   ]
  },
  {
   "cell_type": "code",
   "execution_count": 199,
   "id": "f65f4620-77cb-4672-9ed7-f8a7267591e7",
   "metadata": {},
   "outputs": [
    {
     "name": "stderr",
     "output_type": "stream",
     "text": [
      "C:\\Users\\JKD\\AppData\\Local\\Temp\\ipykernel_13024\\1746611398.py:3: UserWarning: \n",
      "\n",
      "`distplot` is a deprecated function and will be removed in seaborn v0.14.0.\n",
      "\n",
      "Please adapt your code to use either `displot` (a figure-level function with\n",
      "similar flexibility) or `histplot` (an axes-level function for histograms).\n",
      "\n",
      "For a guide to updating your code to use the new functions, please see\n",
      "https://gist.github.com/mwaskom/de44147ed2974457ad6372750bbe5751\n",
      "\n",
      "  sns.distplot(data2['age'], bins= 10, kde = False)\n"
     ]
    },
    {
     "data": {
      "text/plain": [
       "<Axes: xlabel='age'>"
      ]
     },
     "execution_count": 199,
     "metadata": {},
     "output_type": "execute_result"
    },
    {
     "data": {
      "image/png": "[encoded data removed]",
      "text/plain": [
       "<Figure size 640x480 with 1 Axes>"
      ]
     },
     "metadata": {},
     "output_type": "display_data"
    }
   ],
   "source": [
    "# Histogram of Age\n",
    "\n",
    "sns.distplot(data2['age'], bins= 10, kde = False)\n"
   ]
  },
  {
   "cell_type": "code",
   "execution_count": 200,
   "id": "87ccce1c-9018-42ad-a656-d095edfac36c",
   "metadata": {},
   "outputs": [],
   "source": [
    "# insights from above ->\n",
    "\n",
    "# people with 20 - 45 age are hight in frequency"
   ]
  },
  {
   "cell_type": "code",
   "execution_count": 201,
   "id": "4a8d8f23-8d55-421e-9c38-87286aa48217",
   "metadata": {},
   "outputs": [
    {
     "data": {
      "text/html": [
       "<div>\n",
       "<style scoped>\n",
       "    .dataframe tbody tr th:only-of-type {\n",
       "        vertical-align: middle;\n",
       "    }\n",
       "\n",
       "    .dataframe tbody tr th {\n",
       "        vertical-align: top;\n",
       "    }\n",
       "\n",
       "    .dataframe thead th {\n",
       "        text-align: right;\n",
       "    }\n",
       "</style>\n",
       "<table border=\"1\" class=\"dataframe\">\n",
       "  <thead>\n",
       "    <tr style=\"text-align: right;\">\n",
       "      <th>SalStat</th>\n",
       "      <th>greater than 50,000</th>\n",
       "      <th>less than or equal to 50,000</th>\n",
       "    </tr>\n",
       "    <tr>\n",
       "      <th>age</th>\n",
       "      <th></th>\n",
       "      <th></th>\n",
       "    </tr>\n",
       "  </thead>\n",
       "  <tbody>\n",
       "    <tr>\n",
       "      <th>17</th>\n",
       "      <td>0</td>\n",
       "      <td>328</td>\n",
       "    </tr>\n",
       "    <tr>\n",
       "      <th>18</th>\n",
       "      <td>0</td>\n",
       "      <td>447</td>\n",
       "    </tr>\n",
       "    <tr>\n",
       "      <th>19</th>\n",
       "      <td>1</td>\n",
       "      <td>593</td>\n",
       "    </tr>\n",
       "    <tr>\n",
       "      <th>20</th>\n",
       "      <td>0</td>\n",
       "      <td>629</td>\n",
       "    </tr>\n",
       "    <tr>\n",
       "      <th>21</th>\n",
       "      <td>3</td>\n",
       "      <td>618</td>\n",
       "    </tr>\n",
       "    <tr>\n",
       "      <th>...</th>\n",
       "      <td>...</td>\n",
       "      <td>...</td>\n",
       "    </tr>\n",
       "    <tr>\n",
       "      <th>84</th>\n",
       "      <td>1</td>\n",
       "      <td>7</td>\n",
       "    </tr>\n",
       "    <tr>\n",
       "      <th>85</th>\n",
       "      <td>0</td>\n",
       "      <td>3</td>\n",
       "    </tr>\n",
       "    <tr>\n",
       "      <th>86</th>\n",
       "      <td>0</td>\n",
       "      <td>1</td>\n",
       "    </tr>\n",
       "    <tr>\n",
       "      <th>88</th>\n",
       "      <td>0</td>\n",
       "      <td>3</td>\n",
       "    </tr>\n",
       "    <tr>\n",
       "      <th>90</th>\n",
       "      <td>7</td>\n",
       "      <td>28</td>\n",
       "    </tr>\n",
       "  </tbody>\n",
       "</table>\n",
       "<p>72 rows × 2 columns</p>\n",
       "</div>"
      ],
      "text/plain": [
       "SalStat  greater than 50,000  less than or equal to 50,000\n",
       "age                                                       \n",
       "17                         0                           328\n",
       "18                         0                           447\n",
       "19                         1                           593\n",
       "20                         0                           629\n",
       "21                         3                           618\n",
       "..                       ...                           ...\n",
       "84                         1                             7\n",
       "85                         0                             3\n",
       "86                         0                             1\n",
       "88                         0                             3\n",
       "90                         7                            28\n",
       "\n",
       "[72 rows x 2 columns]"
      ]
     },
     "execution_count": 201,
     "metadata": {},
     "output_type": "execute_result"
    }
   ],
   "source": [
    "pd.crosstab(index = data2['age'], columns =data2['SalStat'] )"
   ]
  },
  {
   "cell_type": "code",
   "execution_count": 202,
   "id": "e03854ba-7021-42c6-88cd-af98546cd055",
   "metadata": {},
   "outputs": [
    {
     "data": {
      "text/plain": [
       "SalStat\n",
       "greater than 50,000             43.0\n",
       "less than or equal to 50,000    34.0\n",
       "Name: age, dtype: float64"
      ]
     },
     "execution_count": 202,
     "metadata": {},
     "output_type": "execute_result"
    },
    {
     "data": {
      "image/png": "[encoded data removed]",
      "text/plain": [
       "<Figure size 640x480 with 1 Axes>"
      ]
     },
     "metadata": {},
     "output_type": "display_data"
    }
   ],
   "source": [
    "# Boxplot - Age vs Salary Status\n",
    "\n",
    "\n",
    "sns.boxplot(x = 'SalStat',y = 'age', data = data2)\n",
    "data2.groupby('SalStat')['age'].median()"
   ]
  },
  {
   "cell_type": "code",
   "execution_count": 203,
   "id": "a6c3b649-ee3c-4e4f-83f6-d2dfcfb2db84",
   "metadata": {},
   "outputs": [],
   "source": [
    "# insights from above =>\n",
    "# age(35-50) > 50000\n",
    "# age(25-35) <= 50000"
   ]
  },
  {
   "cell_type": "code",
   "execution_count": 204,
   "id": "061963c7-959d-41ad-bd03-6792dcad3cc4",
   "metadata": {},
   "outputs": [
    {
     "data": {
      "text/html": [
       "<div>\n",
       "<style scoped>\n",
       "    .dataframe tbody tr th:only-of-type {\n",
       "        vertical-align: middle;\n",
       "    }\n",
       "\n",
       "    .dataframe tbody tr th {\n",
       "        vertical-align: top;\n",
       "    }\n",
       "\n",
       "    .dataframe thead th {\n",
       "        text-align: right;\n",
       "    }\n",
       "</style>\n",
       "<table border=\"1\" class=\"dataframe\">\n",
       "  <thead>\n",
       "    <tr style=\"text-align: right;\">\n",
       "      <th>SalStat</th>\n",
       "      <th>greater than 50,000</th>\n",
       "      <th>less than or equal to 50,000</th>\n",
       "    </tr>\n",
       "    <tr>\n",
       "      <th>JobType</th>\n",
       "      <th></th>\n",
       "      <th></th>\n",
       "    </tr>\n",
       "  </thead>\n",
       "  <tbody>\n",
       "    <tr>\n",
       "      <th>Federal-gov</th>\n",
       "      <td>38.7</td>\n",
       "      <td>61.3</td>\n",
       "    </tr>\n",
       "    <tr>\n",
       "      <th>Local-gov</th>\n",
       "      <td>29.5</td>\n",
       "      <td>70.5</td>\n",
       "    </tr>\n",
       "    <tr>\n",
       "      <th>Private</th>\n",
       "      <td>21.9</td>\n",
       "      <td>78.1</td>\n",
       "    </tr>\n",
       "    <tr>\n",
       "      <th>Self-emp-inc</th>\n",
       "      <td>55.9</td>\n",
       "      <td>44.1</td>\n",
       "    </tr>\n",
       "    <tr>\n",
       "      <th>Self-emp-not-inc</th>\n",
       "      <td>28.6</td>\n",
       "      <td>71.4</td>\n",
       "    </tr>\n",
       "    <tr>\n",
       "      <th>State-gov</th>\n",
       "      <td>26.9</td>\n",
       "      <td>73.1</td>\n",
       "    </tr>\n",
       "    <tr>\n",
       "      <th>Without-pay</th>\n",
       "      <td>0.0</td>\n",
       "      <td>100.0</td>\n",
       "    </tr>\n",
       "    <tr>\n",
       "      <th>All</th>\n",
       "      <td>24.9</td>\n",
       "      <td>75.1</td>\n",
       "    </tr>\n",
       "  </tbody>\n",
       "</table>\n",
       "</div>"
      ],
      "text/plain": [
       "SalStat            greater than 50,000  less than or equal to 50,000\n",
       "JobType                                                             \n",
       " Federal-gov                      38.7                          61.3\n",
       " Local-gov                        29.5                          70.5\n",
       " Private                          21.9                          78.1\n",
       " Self-emp-inc                     55.9                          44.1\n",
       " Self-emp-not-inc                 28.6                          71.4\n",
       " State-gov                        26.9                          73.1\n",
       " Without-pay                       0.0                         100.0\n",
       "All                               24.9                          75.1"
      ]
     },
     "execution_count": 204,
     "metadata": {},
     "output_type": "execute_result"
    },
    {
     "data": {
      "image/png": "[encoded data removed]",
      "text/plain": [
       "<Figure size 640x480 with 1 Axes>"
      ]
     },
     "metadata": {},
     "output_type": "display_data"
    }
   ],
   "source": [
    "# JobType\n",
    "sns.countplot(y = 'JobType', hue = 'SalStat', data = data2)\n",
    "job_salstat = pd.crosstab(index = data2['JobType'], columns = data2['SalStat'], margins = True, normalize = 'index')\n",
    "round(job_salstat*100, 1)"
   ]
  },
  {
   "cell_type": "code",
   "execution_count": 205,
   "id": "c3d9fb5e-4282-4e26-9bbe-01c17dfc8d2b",
   "metadata": {},
   "outputs": [
    {
     "data": {
      "text/html": [
       "<div>\n",
       "<style scoped>\n",
       "    .dataframe tbody tr th:only-of-type {\n",
       "        vertical-align: middle;\n",
       "    }\n",
       "\n",
       "    .dataframe tbody tr th {\n",
       "        vertical-align: top;\n",
       "    }\n",
       "\n",
       "    .dataframe thead th {\n",
       "        text-align: right;\n",
       "    }\n",
       "</style>\n",
       "<table border=\"1\" class=\"dataframe\">\n",
       "  <thead>\n",
       "    <tr style=\"text-align: right;\">\n",
       "      <th>SalStat</th>\n",
       "      <th>greater than 50,000</th>\n",
       "      <th>less than or equal to 50,000</th>\n",
       "    </tr>\n",
       "    <tr>\n",
       "      <th>EdType</th>\n",
       "      <th></th>\n",
       "      <th></th>\n",
       "    </tr>\n",
       "  </thead>\n",
       "  <tbody>\n",
       "    <tr>\n",
       "      <th>10th</th>\n",
       "      <td>7.2</td>\n",
       "      <td>92.8</td>\n",
       "    </tr>\n",
       "    <tr>\n",
       "      <th>11th</th>\n",
       "      <td>5.6</td>\n",
       "      <td>94.4</td>\n",
       "    </tr>\n",
       "    <tr>\n",
       "      <th>12th</th>\n",
       "      <td>7.7</td>\n",
       "      <td>92.3</td>\n",
       "    </tr>\n",
       "    <tr>\n",
       "      <th>1st-4th</th>\n",
       "      <td>4.0</td>\n",
       "      <td>96.0</td>\n",
       "    </tr>\n",
       "    <tr>\n",
       "      <th>5th-6th</th>\n",
       "      <td>4.2</td>\n",
       "      <td>95.8</td>\n",
       "    </tr>\n",
       "    <tr>\n",
       "      <th>7th-8th</th>\n",
       "      <td>6.3</td>\n",
       "      <td>93.7</td>\n",
       "    </tr>\n",
       "    <tr>\n",
       "      <th>9th</th>\n",
       "      <td>5.5</td>\n",
       "      <td>94.5</td>\n",
       "    </tr>\n",
       "    <tr>\n",
       "      <th>Assoc-acdm</th>\n",
       "      <td>25.4</td>\n",
       "      <td>74.6</td>\n",
       "    </tr>\n",
       "    <tr>\n",
       "      <th>Assoc-voc</th>\n",
       "      <td>26.3</td>\n",
       "      <td>73.7</td>\n",
       "    </tr>\n",
       "    <tr>\n",
       "      <th>Bachelors</th>\n",
       "      <td>42.1</td>\n",
       "      <td>57.9</td>\n",
       "    </tr>\n",
       "    <tr>\n",
       "      <th>Doctorate</th>\n",
       "      <td>74.7</td>\n",
       "      <td>25.3</td>\n",
       "    </tr>\n",
       "    <tr>\n",
       "      <th>HS-grad</th>\n",
       "      <td>16.4</td>\n",
       "      <td>83.6</td>\n",
       "    </tr>\n",
       "    <tr>\n",
       "      <th>Masters</th>\n",
       "      <td>56.4</td>\n",
       "      <td>43.6</td>\n",
       "    </tr>\n",
       "    <tr>\n",
       "      <th>Preschool</th>\n",
       "      <td>0.0</td>\n",
       "      <td>100.0</td>\n",
       "    </tr>\n",
       "    <tr>\n",
       "      <th>Prof-school</th>\n",
       "      <td>74.9</td>\n",
       "      <td>25.1</td>\n",
       "    </tr>\n",
       "    <tr>\n",
       "      <th>Some-college</th>\n",
       "      <td>20.0</td>\n",
       "      <td>80.0</td>\n",
       "    </tr>\n",
       "    <tr>\n",
       "      <th>All</th>\n",
       "      <td>24.9</td>\n",
       "      <td>75.1</td>\n",
       "    </tr>\n",
       "  </tbody>\n",
       "</table>\n",
       "</div>"
      ],
      "text/plain": [
       "SalStat        greater than 50,000  less than or equal to 50,000\n",
       "EdType                                                          \n",
       " 10th                          7.2                          92.8\n",
       " 11th                          5.6                          94.4\n",
       " 12th                          7.7                          92.3\n",
       " 1st-4th                       4.0                          96.0\n",
       " 5th-6th                       4.2                          95.8\n",
       " 7th-8th                       6.3                          93.7\n",
       " 9th                           5.5                          94.5\n",
       " Assoc-acdm                   25.4                          74.6\n",
       " Assoc-voc                    26.3                          73.7\n",
       " Bachelors                    42.1                          57.9\n",
       " Doctorate                    74.7                          25.3\n",
       " HS-grad                      16.4                          83.6\n",
       " Masters                      56.4                          43.6\n",
       " Preschool                     0.0                         100.0\n",
       " Prof-school                  74.9                          25.1\n",
       " Some-college                 20.0                          80.0\n",
       "All                           24.9                          75.1"
      ]
     },
     "execution_count": 205,
     "metadata": {},
     "output_type": "execute_result"
    },
    {
     "data": {
      "image/png": "[encoded data removed]",
      "text/plain": [
       "<Figure size 640x480 with 1 Axes>"
      ]
     },
     "metadata": {},
     "output_type": "display_data"
    }
   ],
   "source": [
    "# Education\n",
    "sns.countplot(y = 'EdType', hue = 'SalStat', data = data2)\n",
    "EdType_salstat = pd.crosstab(index = data2['EdType'], columns = data2['SalStat'], margins = True, normalize = 'index')\n",
    "round(EdType_salstat*100, 1)"
   ]
  },
  {
   "cell_type": "code",
   "execution_count": 206,
   "id": "5ba25b06-e11a-485d-850d-04ed30582608",
   "metadata": {},
   "outputs": [
    {
     "data": {
      "text/html": [
       "<div>\n",
       "<style scoped>\n",
       "    .dataframe tbody tr th:only-of-type {\n",
       "        vertical-align: middle;\n",
       "    }\n",
       "\n",
       "    .dataframe tbody tr th {\n",
       "        vertical-align: top;\n",
       "    }\n",
       "\n",
       "    .dataframe thead th {\n",
       "        text-align: right;\n",
       "    }\n",
       "</style>\n",
       "<table border=\"1\" class=\"dataframe\">\n",
       "  <thead>\n",
       "    <tr style=\"text-align: right;\">\n",
       "      <th>SalStat</th>\n",
       "      <th>greater than 50,000</th>\n",
       "      <th>less than or equal to 50,000</th>\n",
       "    </tr>\n",
       "    <tr>\n",
       "      <th>occupation</th>\n",
       "      <th></th>\n",
       "      <th></th>\n",
       "    </tr>\n",
       "  </thead>\n",
       "  <tbody>\n",
       "    <tr>\n",
       "      <th>Adm-clerical</th>\n",
       "      <td>13.4</td>\n",
       "      <td>86.6</td>\n",
       "    </tr>\n",
       "    <tr>\n",
       "      <th>Armed-Forces</th>\n",
       "      <td>11.1</td>\n",
       "      <td>88.9</td>\n",
       "    </tr>\n",
       "    <tr>\n",
       "      <th>Craft-repair</th>\n",
       "      <td>22.5</td>\n",
       "      <td>77.5</td>\n",
       "    </tr>\n",
       "    <tr>\n",
       "      <th>Exec-managerial</th>\n",
       "      <td>48.5</td>\n",
       "      <td>51.5</td>\n",
       "    </tr>\n",
       "    <tr>\n",
       "      <th>Farming-fishing</th>\n",
       "      <td>11.6</td>\n",
       "      <td>88.4</td>\n",
       "    </tr>\n",
       "    <tr>\n",
       "      <th>Handlers-cleaners</th>\n",
       "      <td>6.1</td>\n",
       "      <td>93.9</td>\n",
       "    </tr>\n",
       "    <tr>\n",
       "      <th>Machine-op-inspct</th>\n",
       "      <td>12.5</td>\n",
       "      <td>87.5</td>\n",
       "    </tr>\n",
       "    <tr>\n",
       "      <th>Other-service</th>\n",
       "      <td>4.1</td>\n",
       "      <td>95.9</td>\n",
       "    </tr>\n",
       "    <tr>\n",
       "      <th>Priv-house-serv</th>\n",
       "      <td>0.7</td>\n",
       "      <td>99.3</td>\n",
       "    </tr>\n",
       "    <tr>\n",
       "      <th>Prof-specialty</th>\n",
       "      <td>44.8</td>\n",
       "      <td>55.2</td>\n",
       "    </tr>\n",
       "    <tr>\n",
       "      <th>Protective-serv</th>\n",
       "      <td>32.6</td>\n",
       "      <td>67.4</td>\n",
       "    </tr>\n",
       "    <tr>\n",
       "      <th>Sales</th>\n",
       "      <td>27.1</td>\n",
       "      <td>72.9</td>\n",
       "    </tr>\n",
       "    <tr>\n",
       "      <th>Tech-support</th>\n",
       "      <td>30.5</td>\n",
       "      <td>69.5</td>\n",
       "    </tr>\n",
       "    <tr>\n",
       "      <th>Transport-moving</th>\n",
       "      <td>20.3</td>\n",
       "      <td>79.7</td>\n",
       "    </tr>\n",
       "    <tr>\n",
       "      <th>All</th>\n",
       "      <td>24.9</td>\n",
       "      <td>75.1</td>\n",
       "    </tr>\n",
       "  </tbody>\n",
       "</table>\n",
       "</div>"
      ],
      "text/plain": [
       "SalStat             greater than 50,000  less than or equal to 50,000\n",
       "occupation                                                           \n",
       " Adm-clerical                      13.4                          86.6\n",
       " Armed-Forces                      11.1                          88.9\n",
       " Craft-repair                      22.5                          77.5\n",
       " Exec-managerial                   48.5                          51.5\n",
       " Farming-fishing                   11.6                          88.4\n",
       " Handlers-cleaners                  6.1                          93.9\n",
       " Machine-op-inspct                 12.5                          87.5\n",
       " Other-service                      4.1                          95.9\n",
       " Priv-house-serv                    0.7                          99.3\n",
       " Prof-specialty                    44.8                          55.2\n",
       " Protective-serv                   32.6                          67.4\n",
       " Sales                             27.1                          72.9\n",
       " Tech-support                      30.5                          69.5\n",
       " Transport-moving                  20.3                          79.7\n",
       "All                                24.9                          75.1"
      ]
     },
     "execution_count": 206,
     "metadata": {},
     "output_type": "execute_result"
    },
    {
     "data": {
      "image/png": "[encoded data removed]",
      "text/plain": [
       "<Figure size 640x480 with 1 Axes>"
      ]
     },
     "metadata": {},
     "output_type": "display_data"
    }
   ],
   "source": [
    "# Occupation\n",
    "sns.countplot(y = 'occupation', hue = 'SalStat', data = data2)\n",
    "occupation_salstat = pd.crosstab(index = data2['occupation'], columns = data2['SalStat'], margins = True, normalize = 'index')\n",
    "round(occupation_salstat*100, 1)"
   ]
  },
  {
   "cell_type": "code",
   "execution_count": 207,
   "id": "cdbf7ab7-574b-42a3-a5fc-324d0107a13f",
   "metadata": {},
   "outputs": [
    {
     "name": "stderr",
     "output_type": "stream",
     "text": [
      "C:\\Users\\JKD\\AppData\\Local\\Temp\\ipykernel_13024\\2211800559.py:2: UserWarning: \n",
      "\n",
      "`distplot` is a deprecated function and will be removed in seaborn v0.14.0.\n",
      "\n",
      "Please adapt your code to use either `displot` (a figure-level function with\n",
      "similar flexibility) or `histplot` (an axes-level function for histograms).\n",
      "\n",
      "For a guide to updating your code to use the new functions, please see\n",
      "https://gist.github.com/mwaskom/de44147ed2974457ad6372750bbe5751\n",
      "\n",
      "  sns.distplot(data2['capitalgain'], bins = 10, kde = False)\n"
     ]
    },
    {
     "data": {
      "text/plain": [
       "<Axes: xlabel='capitalgain'>"
      ]
     },
     "execution_count": 207,
     "metadata": {},
     "output_type": "execute_result"
    },
    {
     "data": {
      "image/png": "[encoded data removed]",
      "text/plain": [
       "<Figure size 640x480 with 1 Axes>"
      ]
     },
     "metadata": {},
     "output_type": "display_data"
    }
   ],
   "source": [
    "# Capital gain\n",
    "sns.distplot(data2['capitalgain'], bins = 10, kde = False)"
   ]
  },
  {
   "cell_type": "code",
   "execution_count": 208,
   "id": "1a760271-7a33-4c8f-bed8-5539a3f829aa",
   "metadata": {},
   "outputs": [
    {
     "name": "stderr",
     "output_type": "stream",
     "text": [
      "C:\\Users\\JKD\\AppData\\Local\\Temp\\ipykernel_13024\\4194796564.py:2: UserWarning: \n",
      "\n",
      "`distplot` is a deprecated function and will be removed in seaborn v0.14.0.\n",
      "\n",
      "Please adapt your code to use either `displot` (a figure-level function with\n",
      "similar flexibility) or `histplot` (an axes-level function for histograms).\n",
      "\n",
      "For a guide to updating your code to use the new functions, please see\n",
      "https://gist.github.com/mwaskom/de44147ed2974457ad6372750bbe5751\n",
      "\n",
      "  sns.distplot(data2['capitalloss'], bins = 10, kde = False)\n"
     ]
    },
    {
     "data": {
      "text/plain": [
       "<Axes: xlabel='capitalloss'>"
      ]
     },
     "execution_count": 208,
     "metadata": {},
     "output_type": "execute_result"
    },
    {
     "data": {
      "image/png": "[encoded data removed]",
      "text/plain": [
       "<Figure size 640x480 with 1 Axes>"
      ]
     },
     "metadata": {},
     "output_type": "display_data"
    }
   ],
   "source": [
    "# Capital loss\n",
    "sns.distplot(data2['capitalloss'], bins = 10, kde = False)"
   ]
  },
  {
   "cell_type": "markdown",
   "id": "23e274ea-e537-4dac-8d74-277bad454b9a",
   "metadata": {},
   "source": [
    "# Step8 - Model Building "
   ]
  },
  {
   "cell_type": "markdown",
   "id": "e770396a-6e2c-4b60-b010-511760663133",
   "metadata": {},
   "source": [
    "## 1. Logistic Regression"
   ]
  },
  {
   "cell_type": "code",
   "execution_count": 211,
   "id": "4f3a0553-e379-41c5-a5a8-f8a35c7fd76e",
   "metadata": {},
   "outputs": [
    {
     "data": {
      "text/plain": [
       "SalStat\n",
       "less than or equal to 50,000    22654\n",
       "greater than 50,000              7508\n",
       "Name: count, dtype: int64"
      ]
     },
     "execution_count": 211,
     "metadata": {},
     "output_type": "execute_result"
    }
   ],
   "source": [
    "data2['SalStat'].value_counts()"
   ]
  },
  {
   "cell_type": "code",
   "execution_count": 212,
   "id": "9cd04d90-9d37-459d-841c-38bb87a862d8",
   "metadata": {},
   "outputs": [
    {
     "name": "stdout",
     "output_type": "stream",
     "text": [
      "[' less than or equal to 50,000' ' greater than 50,000']\n"
     ]
    }
   ],
   "source": [
    "print(data2['SalStat'].unique())"
   ]
  },
  {
   "cell_type": "code",
   "execution_count": 213,
   "id": "ff824d01-3fff-492b-a8cc-91684a1c6b61",
   "metadata": {},
   "outputs": [
    {
     "data": {
      "text/plain": [
       "0        0\n",
       "1        0\n",
       "2        1\n",
       "3        0\n",
       "4        0\n",
       "        ..\n",
       "31973    0\n",
       "31974    0\n",
       "31975    0\n",
       "31976    0\n",
       "31977    0\n",
       "Name: SalStat, Length: 30162, dtype: object"
      ]
     },
     "execution_count": 213,
     "metadata": {},
     "output_type": "execute_result"
    }
   ],
   "source": [
    "# indexing sal_stat with 0,1\n",
    "data2 = pd.DataFrame(data2)\n",
    "data2.loc[:, 'SalStat'] = data2['SalStat'].map({' less than or equal to 50,000' : 0, ' greater than 50,000': 1})\n",
    "data2['SalStat']"
   ]
  },
  {
   "cell_type": "code",
   "execution_count": 214,
   "id": "af5467d2-e513-4ee2-a65d-26dea99a66db",
   "metadata": {},
   "outputs": [
    {
     "name": "stdout",
     "output_type": "stream",
     "text": [
      "<class 'pandas.core.frame.DataFrame'>\n",
      "Index: 30162 entries, 0 to 31977\n",
      "Data columns (total 13 columns):\n",
      " #   Column         Non-Null Count  Dtype \n",
      "---  ------         --------------  ----- \n",
      " 0   age            30162 non-null  int64 \n",
      " 1   JobType        30162 non-null  object\n",
      " 2   EdType         30162 non-null  object\n",
      " 3   maritalstatus  30162 non-null  object\n",
      " 4   occupation     30162 non-null  object\n",
      " 5   relationship   30162 non-null  object\n",
      " 6   race           30162 non-null  object\n",
      " 7   gender         30162 non-null  object\n",
      " 8   capitalgain    30162 non-null  int64 \n",
      " 9   capitalloss    30162 non-null  int64 \n",
      " 10  hoursperweek   30162 non-null  int64 \n",
      " 11  nativecountry  30162 non-null  object\n",
      " 12  SalStat        30162 non-null  object\n",
      "dtypes: int64(4), object(9)\n",
      "memory usage: 3.2+ MB\n"
     ]
    }
   ],
   "source": [
    "data2.info()"
   ]
  },
  {
   "cell_type": "code",
   "execution_count": 215,
   "id": "1cd1889f-5693-46ad-9c56-9d898ab305b0",
   "metadata": {},
   "outputs": [
    {
     "data": {
      "text/html": [
       "<div>\n",
       "<style scoped>\n",
       "    .dataframe tbody tr th:only-of-type {\n",
       "        vertical-align: middle;\n",
       "    }\n",
       "\n",
       "    .dataframe tbody tr th {\n",
       "        vertical-align: top;\n",
       "    }\n",
       "\n",
       "    .dataframe thead th {\n",
       "        text-align: right;\n",
       "    }\n",
       "</style>\n",
       "<table border=\"1\" class=\"dataframe\">\n",
       "  <thead>\n",
       "    <tr style=\"text-align: right;\">\n",
       "      <th></th>\n",
       "      <th>age</th>\n",
       "      <th>capitalgain</th>\n",
       "      <th>capitalloss</th>\n",
       "      <th>hoursperweek</th>\n",
       "      <th>JobType_ Local-gov</th>\n",
       "      <th>JobType_ Private</th>\n",
       "      <th>JobType_ Self-emp-inc</th>\n",
       "      <th>JobType_ Self-emp-not-inc</th>\n",
       "      <th>JobType_ State-gov</th>\n",
       "      <th>JobType_ Without-pay</th>\n",
       "      <th>...</th>\n",
       "      <th>nativecountry_ Puerto-Rico</th>\n",
       "      <th>nativecountry_ Scotland</th>\n",
       "      <th>nativecountry_ South</th>\n",
       "      <th>nativecountry_ Taiwan</th>\n",
       "      <th>nativecountry_ Thailand</th>\n",
       "      <th>nativecountry_ Trinadad&amp;Tobago</th>\n",
       "      <th>nativecountry_ United-States</th>\n",
       "      <th>nativecountry_ Vietnam</th>\n",
       "      <th>nativecountry_ Yugoslavia</th>\n",
       "      <th>SalStat_1</th>\n",
       "    </tr>\n",
       "  </thead>\n",
       "  <tbody>\n",
       "    <tr>\n",
       "      <th>0</th>\n",
       "      <td>45</td>\n",
       "      <td>0</td>\n",
       "      <td>0</td>\n",
       "      <td>28</td>\n",
       "      <td>0</td>\n",
       "      <td>1</td>\n",
       "      <td>0</td>\n",
       "      <td>0</td>\n",
       "      <td>0</td>\n",
       "      <td>0</td>\n",
       "      <td>...</td>\n",
       "      <td>0</td>\n",
       "      <td>0</td>\n",
       "      <td>0</td>\n",
       "      <td>0</td>\n",
       "      <td>0</td>\n",
       "      <td>0</td>\n",
       "      <td>1</td>\n",
       "      <td>0</td>\n",
       "      <td>0</td>\n",
       "      <td>0</td>\n",
       "    </tr>\n",
       "    <tr>\n",
       "      <th>1</th>\n",
       "      <td>24</td>\n",
       "      <td>0</td>\n",
       "      <td>0</td>\n",
       "      <td>40</td>\n",
       "      <td>0</td>\n",
       "      <td>0</td>\n",
       "      <td>0</td>\n",
       "      <td>0</td>\n",
       "      <td>0</td>\n",
       "      <td>0</td>\n",
       "      <td>...</td>\n",
       "      <td>0</td>\n",
       "      <td>0</td>\n",
       "      <td>0</td>\n",
       "      <td>0</td>\n",
       "      <td>0</td>\n",
       "      <td>0</td>\n",
       "      <td>1</td>\n",
       "      <td>0</td>\n",
       "      <td>0</td>\n",
       "      <td>0</td>\n",
       "    </tr>\n",
       "    <tr>\n",
       "      <th>2</th>\n",
       "      <td>44</td>\n",
       "      <td>0</td>\n",
       "      <td>0</td>\n",
       "      <td>40</td>\n",
       "      <td>0</td>\n",
       "      <td>1</td>\n",
       "      <td>0</td>\n",
       "      <td>0</td>\n",
       "      <td>0</td>\n",
       "      <td>0</td>\n",
       "      <td>...</td>\n",
       "      <td>0</td>\n",
       "      <td>0</td>\n",
       "      <td>0</td>\n",
       "      <td>0</td>\n",
       "      <td>0</td>\n",
       "      <td>0</td>\n",
       "      <td>1</td>\n",
       "      <td>0</td>\n",
       "      <td>0</td>\n",
       "      <td>1</td>\n",
       "    </tr>\n",
       "    <tr>\n",
       "      <th>3</th>\n",
       "      <td>27</td>\n",
       "      <td>0</td>\n",
       "      <td>0</td>\n",
       "      <td>40</td>\n",
       "      <td>0</td>\n",
       "      <td>1</td>\n",
       "      <td>0</td>\n",
       "      <td>0</td>\n",
       "      <td>0</td>\n",
       "      <td>0</td>\n",
       "      <td>...</td>\n",
       "      <td>0</td>\n",
       "      <td>0</td>\n",
       "      <td>0</td>\n",
       "      <td>0</td>\n",
       "      <td>0</td>\n",
       "      <td>0</td>\n",
       "      <td>0</td>\n",
       "      <td>0</td>\n",
       "      <td>0</td>\n",
       "      <td>0</td>\n",
       "    </tr>\n",
       "    <tr>\n",
       "      <th>4</th>\n",
       "      <td>20</td>\n",
       "      <td>0</td>\n",
       "      <td>0</td>\n",
       "      <td>35</td>\n",
       "      <td>0</td>\n",
       "      <td>1</td>\n",
       "      <td>0</td>\n",
       "      <td>0</td>\n",
       "      <td>0</td>\n",
       "      <td>0</td>\n",
       "      <td>...</td>\n",
       "      <td>0</td>\n",
       "      <td>0</td>\n",
       "      <td>0</td>\n",
       "      <td>0</td>\n",
       "      <td>0</td>\n",
       "      <td>0</td>\n",
       "      <td>1</td>\n",
       "      <td>0</td>\n",
       "      <td>0</td>\n",
       "      <td>0</td>\n",
       "    </tr>\n",
       "    <tr>\n",
       "      <th>...</th>\n",
       "      <td>...</td>\n",
       "      <td>...</td>\n",
       "      <td>...</td>\n",
       "      <td>...</td>\n",
       "      <td>...</td>\n",
       "      <td>...</td>\n",
       "      <td>...</td>\n",
       "      <td>...</td>\n",
       "      <td>...</td>\n",
       "      <td>...</td>\n",
       "      <td>...</td>\n",
       "      <td>...</td>\n",
       "      <td>...</td>\n",
       "      <td>...</td>\n",
       "      <td>...</td>\n",
       "      <td>...</td>\n",
       "      <td>...</td>\n",
       "      <td>...</td>\n",
       "      <td>...</td>\n",
       "      <td>...</td>\n",
       "      <td>...</td>\n",
       "    </tr>\n",
       "    <tr>\n",
       "      <th>31973</th>\n",
       "      <td>34</td>\n",
       "      <td>594</td>\n",
       "      <td>0</td>\n",
       "      <td>60</td>\n",
       "      <td>1</td>\n",
       "      <td>0</td>\n",
       "      <td>0</td>\n",
       "      <td>0</td>\n",
       "      <td>0</td>\n",
       "      <td>0</td>\n",
       "      <td>...</td>\n",
       "      <td>0</td>\n",
       "      <td>0</td>\n",
       "      <td>0</td>\n",
       "      <td>0</td>\n",
       "      <td>0</td>\n",
       "      <td>0</td>\n",
       "      <td>1</td>\n",
       "      <td>0</td>\n",
       "      <td>0</td>\n",
       "      <td>0</td>\n",
       "    </tr>\n",
       "    <tr>\n",
       "      <th>31974</th>\n",
       "      <td>34</td>\n",
       "      <td>0</td>\n",
       "      <td>0</td>\n",
       "      <td>40</td>\n",
       "      <td>1</td>\n",
       "      <td>0</td>\n",
       "      <td>0</td>\n",
       "      <td>0</td>\n",
       "      <td>0</td>\n",
       "      <td>0</td>\n",
       "      <td>...</td>\n",
       "      <td>0</td>\n",
       "      <td>0</td>\n",
       "      <td>0</td>\n",
       "      <td>0</td>\n",
       "      <td>0</td>\n",
       "      <td>0</td>\n",
       "      <td>1</td>\n",
       "      <td>0</td>\n",
       "      <td>0</td>\n",
       "      <td>0</td>\n",
       "    </tr>\n",
       "    <tr>\n",
       "      <th>31975</th>\n",
       "      <td>23</td>\n",
       "      <td>0</td>\n",
       "      <td>0</td>\n",
       "      <td>40</td>\n",
       "      <td>0</td>\n",
       "      <td>1</td>\n",
       "      <td>0</td>\n",
       "      <td>0</td>\n",
       "      <td>0</td>\n",
       "      <td>0</td>\n",
       "      <td>...</td>\n",
       "      <td>0</td>\n",
       "      <td>0</td>\n",
       "      <td>0</td>\n",
       "      <td>0</td>\n",
       "      <td>0</td>\n",
       "      <td>0</td>\n",
       "      <td>1</td>\n",
       "      <td>0</td>\n",
       "      <td>0</td>\n",
       "      <td>0</td>\n",
       "    </tr>\n",
       "    <tr>\n",
       "      <th>31976</th>\n",
       "      <td>42</td>\n",
       "      <td>0</td>\n",
       "      <td>0</td>\n",
       "      <td>40</td>\n",
       "      <td>1</td>\n",
       "      <td>0</td>\n",
       "      <td>0</td>\n",
       "      <td>0</td>\n",
       "      <td>0</td>\n",
       "      <td>0</td>\n",
       "      <td>...</td>\n",
       "      <td>0</td>\n",
       "      <td>0</td>\n",
       "      <td>0</td>\n",
       "      <td>0</td>\n",
       "      <td>0</td>\n",
       "      <td>0</td>\n",
       "      <td>1</td>\n",
       "      <td>0</td>\n",
       "      <td>0</td>\n",
       "      <td>0</td>\n",
       "    </tr>\n",
       "    <tr>\n",
       "      <th>31977</th>\n",
       "      <td>29</td>\n",
       "      <td>0</td>\n",
       "      <td>0</td>\n",
       "      <td>40</td>\n",
       "      <td>0</td>\n",
       "      <td>1</td>\n",
       "      <td>0</td>\n",
       "      <td>0</td>\n",
       "      <td>0</td>\n",
       "      <td>0</td>\n",
       "      <td>...</td>\n",
       "      <td>0</td>\n",
       "      <td>0</td>\n",
       "      <td>0</td>\n",
       "      <td>0</td>\n",
       "      <td>0</td>\n",
       "      <td>0</td>\n",
       "      <td>1</td>\n",
       "      <td>0</td>\n",
       "      <td>0</td>\n",
       "      <td>0</td>\n",
       "    </tr>\n",
       "  </tbody>\n",
       "</table>\n",
       "<p>30162 rows × 95 columns</p>\n",
       "</div>"
      ],
      "text/plain": [
       "       age  capitalgain  capitalloss  hoursperweek  JobType_ Local-gov  \\\n",
       "0       45            0            0            28                   0   \n",
       "1       24            0            0            40                   0   \n",
       "2       44            0            0            40                   0   \n",
       "3       27            0            0            40                   0   \n",
       "4       20            0            0            35                   0   \n",
       "...    ...          ...          ...           ...                 ...   \n",
       "31973   34          594            0            60                   1   \n",
       "31974   34            0            0            40                   1   \n",
       "31975   23            0            0            40                   0   \n",
       "31976   42            0            0            40                   1   \n",
       "31977   29            0            0            40                   0   \n",
       "\n",
       "       JobType_ Private  JobType_ Self-emp-inc  JobType_ Self-emp-not-inc  \\\n",
       "0                     1                      0                          0   \n",
       "1                     0                      0                          0   \n",
       "2                     1                      0                          0   \n",
       "3                     1                      0                          0   \n",
       "4                     1                      0                          0   \n",
       "...                 ...                    ...                        ...   \n",
       "31973                 0                      0                          0   \n",
       "31974                 0                      0                          0   \n",
       "31975                 1                      0                          0   \n",
       "31976                 0                      0                          0   \n",
       "31977                 1                      0                          0   \n",
       "\n",
       "       JobType_ State-gov  JobType_ Without-pay  ...  \\\n",
       "0                       0                     0  ...   \n",
       "1                       0                     0  ...   \n",
       "2                       0                     0  ...   \n",
       "3                       0                     0  ...   \n",
       "4                       0                     0  ...   \n",
       "...                   ...                   ...  ...   \n",
       "31973                   0                     0  ...   \n",
       "31974                   0                     0  ...   \n",
       "31975                   0                     0  ...   \n",
       "31976                   0                     0  ...   \n",
       "31977                   0                     0  ...   \n",
       "\n",
       "       nativecountry_ Puerto-Rico  nativecountry_ Scotland  \\\n",
       "0                               0                        0   \n",
       "1                               0                        0   \n",
       "2                               0                        0   \n",
       "3                               0                        0   \n",
       "4                               0                        0   \n",
       "...                           ...                      ...   \n",
       "31973                           0                        0   \n",
       "31974                           0                        0   \n",
       "31975                           0                        0   \n",
       "31976                           0                        0   \n",
       "31977                           0                        0   \n",
       "\n",
       "       nativecountry_ South  nativecountry_ Taiwan  nativecountry_ Thailand  \\\n",
       "0                         0                      0                        0   \n",
       "1                         0                      0                        0   \n",
       "2                         0                      0                        0   \n",
       "3                         0                      0                        0   \n",
       "4                         0                      0                        0   \n",
       "...                     ...                    ...                      ...   \n",
       "31973                     0                      0                        0   \n",
       "31974                     0                      0                        0   \n",
       "31975                     0                      0                        0   \n",
       "31976                     0                      0                        0   \n",
       "31977                     0                      0                        0   \n",
       "\n",
       "       nativecountry_ Trinadad&Tobago  nativecountry_ United-States  \\\n",
       "0                                   0                             1   \n",
       "1                                   0                             1   \n",
       "2                                   0                             1   \n",
       "3                                   0                             0   \n",
       "4                                   0                             1   \n",
       "...                               ...                           ...   \n",
       "31973                               0                             1   \n",
       "31974                               0                             1   \n",
       "31975                               0                             1   \n",
       "31976                               0                             1   \n",
       "31977                               0                             1   \n",
       "\n",
       "       nativecountry_ Vietnam  nativecountry_ Yugoslavia  SalStat_1  \n",
       "0                           0                          0          0  \n",
       "1                           0                          0          0  \n",
       "2                           0                          0          1  \n",
       "3                           0                          0          0  \n",
       "4                           0                          0          0  \n",
       "...                       ...                        ...        ...  \n",
       "31973                       0                          0          0  \n",
       "31974                       0                          0          0  \n",
       "31975                       0                          0          0  \n",
       "31976                       0                          0          0  \n",
       "31977                       0                          0          0  \n",
       "\n",
       "[30162 rows x 95 columns]"
      ]
     },
     "execution_count": 215,
     "metadata": {},
     "output_type": "execute_result"
    }
   ],
   "source": [
    "\n",
    "new_data = pd.get_dummies(data2, drop_first = True).astype(int)\n",
    "new_data"
   ]
  },
  {
   "cell_type": "code",
   "execution_count": 216,
   "id": "6ab51f58-fd42-478d-bc9b-6ad4303d87a3",
   "metadata": {},
   "outputs": [
    {
     "name": "stdout",
     "output_type": "stream",
     "text": [
      "['age', 'capitalgain', 'capitalloss', 'hoursperweek', 'JobType_ Local-gov', 'JobType_ Private', 'JobType_ Self-emp-inc', 'JobType_ Self-emp-not-inc', 'JobType_ State-gov', 'JobType_ Without-pay', 'EdType_ 11th', 'EdType_ 12th', 'EdType_ 1st-4th', 'EdType_ 5th-6th', 'EdType_ 7th-8th', 'EdType_ 9th', 'EdType_ Assoc-acdm', 'EdType_ Assoc-voc', 'EdType_ Bachelors', 'EdType_ Doctorate', 'EdType_ HS-grad', 'EdType_ Masters', 'EdType_ Preschool', 'EdType_ Prof-school', 'EdType_ Some-college', 'maritalstatus_ Married-AF-spouse', 'maritalstatus_ Married-civ-spouse', 'maritalstatus_ Married-spouse-absent', 'maritalstatus_ Never-married', 'maritalstatus_ Separated', 'maritalstatus_ Widowed', 'occupation_ Armed-Forces', 'occupation_ Craft-repair', 'occupation_ Exec-managerial', 'occupation_ Farming-fishing', 'occupation_ Handlers-cleaners', 'occupation_ Machine-op-inspct', 'occupation_ Other-service', 'occupation_ Priv-house-serv', 'occupation_ Prof-specialty', 'occupation_ Protective-serv', 'occupation_ Sales', 'occupation_ Tech-support', 'occupation_ Transport-moving', 'relationship_ Not-in-family', 'relationship_ Other-relative', 'relationship_ Own-child', 'relationship_ Unmarried', 'relationship_ Wife', 'race_ Asian-Pac-Islander', 'race_ Black', 'race_ Other', 'race_ White', 'gender_ Male', 'nativecountry_ Canada', 'nativecountry_ China', 'nativecountry_ Columbia', 'nativecountry_ Cuba', 'nativecountry_ Dominican-Republic', 'nativecountry_ Ecuador', 'nativecountry_ El-Salvador', 'nativecountry_ England', 'nativecountry_ France', 'nativecountry_ Germany', 'nativecountry_ Greece', 'nativecountry_ Guatemala', 'nativecountry_ Haiti', 'nativecountry_ Holand-Netherlands', 'nativecountry_ Honduras', 'nativecountry_ Hong', 'nativecountry_ Hungary', 'nativecountry_ India', 'nativecountry_ Iran', 'nativecountry_ Ireland', 'nativecountry_ Italy', 'nativecountry_ Jamaica', 'nativecountry_ Japan', 'nativecountry_ Laos', 'nativecountry_ Mexico', 'nativecountry_ Nicaragua', 'nativecountry_ Outlying-US(Guam-USVI-etc)', 'nativecountry_ Peru', 'nativecountry_ Philippines', 'nativecountry_ Poland', 'nativecountry_ Portugal', 'nativecountry_ Puerto-Rico', 'nativecountry_ Scotland', 'nativecountry_ South', 'nativecountry_ Taiwan', 'nativecountry_ Thailand', 'nativecountry_ Trinadad&Tobago', 'nativecountry_ United-States', 'nativecountry_ Vietnam', 'nativecountry_ Yugoslavia', 'SalStat_1']\n"
     ]
    }
   ],
   "source": [
    "# Storing the columns name\n",
    "columns_list = list(new_data.columns)\n",
    "print(columns_list)"
   ]
  },
  {
   "cell_type": "code",
   "execution_count": 217,
   "id": "f0c316e3-f92c-412f-91fd-975d01803301",
   "metadata": {},
   "outputs": [
    {
     "name": "stdout",
     "output_type": "stream",
     "text": [
      "['JobType_ Self-emp-inc', 'nativecountry_ India', 'relationship_ Wife', 'nativecountry_ Germany', 'occupation_ Prof-specialty', 'occupation_ Exec-managerial', 'nativecountry_ El-Salvador', 'nativecountry_ Outlying-US(Guam-USVI-etc)', 'maritalstatus_ Married-spouse-absent', 'nativecountry_ Nicaragua', 'nativecountry_ Ireland', 'relationship_ Unmarried', 'nativecountry_ Italy', 'nativecountry_ England', 'nativecountry_ Japan', 'JobType_ Private', 'nativecountry_ Mexico', 'nativecountry_ Jamaica', 'EdType_ 7th-8th', 'EdType_ 9th', 'EdType_ Assoc-acdm', 'occupation_ Handlers-cleaners', 'nativecountry_ Laos', 'JobType_ State-gov', 'EdType_ 5th-6th', 'nativecountry_ Thailand', 'race_ Black', 'nativecountry_ Peru', 'hoursperweek', 'nativecountry_ Columbia', 'EdType_ Masters', 'EdType_ 12th', 'nativecountry_ Holand-Netherlands', 'occupation_ Priv-house-serv', 'EdType_ Doctorate', 'EdType_ Some-college', 'EdType_ HS-grad', 'nativecountry_ Haiti', 'nativecountry_ Honduras', 'nativecountry_ Dominican-Republic', 'nativecountry_ Philippines', 'nativecountry_ Hungary', 'nativecountry_ Portugal', 'EdType_ Preschool', 'occupation_ Sales', 'occupation_ Farming-fishing', 'nativecountry_ Poland', 'capitalloss', 'occupation_ Protective-serv', 'nativecountry_ Ecuador', 'nativecountry_ Guatemala', 'JobType_ Without-pay', 'EdType_ 11th', 'occupation_ Craft-repair', 'relationship_ Not-in-family', 'nativecountry_ Yugoslavia', 'gender_ Male', 'JobType_ Self-emp-not-inc', 'EdType_ Bachelors', 'nativecountry_ Puerto-Rico', 'nativecountry_ China', 'nativecountry_ Taiwan', 'nativecountry_ Canada', 'nativecountry_ Greece', 'nativecountry_ France', 'maritalstatus_ Married-AF-spouse', 'JobType_ Local-gov', 'occupation_ Tech-support', 'occupation_ Armed-Forces', 'race_ Asian-Pac-Islander', 'relationship_ Own-child', 'nativecountry_ Scotland', 'age', 'nativecountry_ Vietnam', 'EdType_ Prof-school', 'relationship_ Other-relative', 'nativecountry_ Trinadad&Tobago', 'maritalstatus_ Married-civ-spouse', 'occupation_ Machine-op-inspct', 'EdType_ 1st-4th', 'maritalstatus_ Never-married', 'maritalstatus_ Separated', 'occupation_ Other-service', 'nativecountry_ South', 'nativecountry_ Hong', 'occupation_ Transport-moving', 'maritalstatus_ Widowed', 'EdType_ Assoc-voc', 'race_ Other', 'nativecountry_ United-States', 'nativecountry_ Iran', 'capitalgain', 'nativecountry_ Cuba', 'race_ White']\n"
     ]
    }
   ],
   "source": [
    "# Separate input var (creating dependent var together)\n",
    "\n",
    "features = list(set(columns_list)-set(['SalStat_1']))\n",
    "print(features)"
   ]
  },
  {
   "cell_type": "code",
   "execution_count": 218,
   "id": "9810f95e-c2cd-4cf5-a2fc-5b6507e94fb5",
   "metadata": {},
   "outputs": [
    {
     "name": "stdout",
     "output_type": "stream",
     "text": [
      "[0 0 1 ... 0 0 0]\n"
     ]
    }
   ],
   "source": [
    "# storing output var separately\n",
    "\n",
    "y = new_data['SalStat_1'].values\n",
    "print(y)"
   ]
  },
  {
   "cell_type": "code",
   "execution_count": 219,
   "id": "3a80cfe7-7f49-489a-bcfa-bec12f003105",
   "metadata": {},
   "outputs": [
    {
     "name": "stdout",
     "output_type": "stream",
     "text": [
      "[[0 0 0 ... 0 0 1]\n",
      " [0 0 0 ... 0 0 1]\n",
      " [0 0 0 ... 0 0 1]\n",
      " ...\n",
      " [0 0 0 ... 0 0 1]\n",
      " [0 0 1 ... 0 0 1]\n",
      " [0 0 0 ... 0 0 1]]\n"
     ]
    }
   ],
   "source": [
    "# independent var in dummies form sep for modelling\n",
    "x = new_data[features].values\n",
    "print(x)"
   ]
  },
  {
   "cell_type": "code",
   "execution_count": 220,
   "id": "eec331aa-c8a1-4114-b8d9-d67b652f7c5f",
   "metadata": {},
   "outputs": [],
   "source": [
    "# Splitting the data into train and test\n",
    "\n",
    "train_x,test_x,  train_y, test_y = train_test_split(x, y, test_size = 0.3, random_state = 0)\n"
   ]
  },
  {
   "cell_type": "code",
   "execution_count": 221,
   "id": "711ef344-9763-477f-b69f-3a891fb371f8",
   "metadata": {},
   "outputs": [],
   "source": [
    "# Make an instance of model\n",
    "\n",
    "logistic = LogisticRegression()"
   ]
  },
  {
   "cell_type": "code",
   "execution_count": 222,
   "id": "078b8f81-06fd-4c40-a6e4-be9fe66db4cd",
   "metadata": {},
   "outputs": [
    {
     "name": "stdout",
     "output_type": "stream",
     "text": [
      "[[ 1.61680688e-01 -2.01800058e-02  2.46053069e-01  1.45209976e-02\n",
      "   6.82341508e-01  8.96106674e-01 -3.95732995e-02 -7.39669511e-03\n",
      "  -5.83287687e-02 -1.28551589e-02 -3.87546615e-03 -5.75216392e-01\n",
      "  -1.83459102e-03  1.26793022e-02 -4.66621789e-04 -3.28931330e-01\n",
      "  -2.56829964e-01 -1.19686249e-02 -2.49400763e-01 -1.71961728e-01\n",
      "  -5.95234778e-02 -3.38698272e-01 -6.12895244e-03 -1.26297439e-01\n",
      "  -1.39924450e-01 -3.32427110e-03 -4.33431434e-01 -1.20559511e-02\n",
      "   9.02743569e-03 -2.01516611e-02  5.25666786e-01 -9.56387967e-02\n",
      "  -8.91018637e-04 -4.05940258e-02  2.47924692e-01 -3.95812128e-01\n",
      "  -9.34891045e-01 -1.18013764e-02 -2.24104183e-03 -2.56409125e-02\n",
      "  -8.14473039e-03 -3.26439685e-03 -1.36916052e-02 -2.62988018e-02\n",
      "   9.74113601e-02 -3.89043805e-01 -9.32090328e-03  6.66684754e-04\n",
      "  -1.41070764e-02 -7.22385473e-03 -2.17164396e-02 -8.10792619e-03\n",
      "  -3.03995782e-01 -3.21078062e-01 -5.01516571e-01 -5.12969270e-04\n",
      "   1.65584529e-01 -5.80716173e-01  7.21245606e-01 -4.12598637e-02\n",
      "  -2.23458809e-02  1.97250484e-03  3.59802839e-03 -8.29962453e-03\n",
      "   5.69810590e-03  1.64572529e-02 -2.47048011e-01  1.16632521e-01\n",
      "  -1.93508827e-03 -1.17453402e-01 -9.41432231e-01 -3.28513729e-03\n",
      "   5.01745853e-04 -3.36051296e-02  2.33477392e-01 -2.44190761e-01\n",
      "  -4.48179112e-03  1.13561030e+00 -3.50069602e-01 -7.14667991e-02\n",
      "  -1.34944362e+00 -1.79259499e-01 -7.40014660e-01 -2.64558342e-02\n",
      "  -1.25184204e-03 -1.94830409e-01 -9.75327734e-02 -3.84689563e-02\n",
      "  -8.37791853e-02 -4.26283113e-01 -2.68157658e-03  3.17694858e-04\n",
      "  -8.16567971e-03 -3.26066869e-01]]\n",
      "[-1.04010037]\n"
     ]
    },
    {
     "name": "stderr",
     "output_type": "stream",
     "text": [
      "C:\\Users\\JKD\\anaconda3\\Lib\\site-packages\\sklearn\\linear_model\\_logistic.py:469: ConvergenceWarning: lbfgs failed to converge (status=1):\n",
      "STOP: TOTAL NO. of ITERATIONS REACHED LIMIT.\n",
      "\n",
      "Increase the number of iterations (max_iter) or scale the data as shown in:\n",
      "    https://scikit-learn.org/stable/modules/preprocessing.html\n",
      "Please also refer to the documentation for alternative solver options:\n",
      "    https://scikit-learn.org/stable/modules/linear_model.html#logistic-regression\n",
      "  n_iter_i = _check_optimize_result(\n"
     ]
    }
   ],
   "source": [
    "# Fitting the values for x and y\n",
    "\n",
    "logistic.fit(train_x, train_y)\n",
    "print(logistic.coef_)\n",
    "print(logistic.intercept_)"
   ]
  },
  {
   "cell_type": "code",
   "execution_count": 223,
   "id": "4a1a2d45-db75-4ff0-a213-e738d2819cf4",
   "metadata": {},
   "outputs": [
    {
     "name": "stdout",
     "output_type": "stream",
     "text": [
      "[0 0 0 ... 0 0 0]\n"
     ]
    }
   ],
   "source": [
    "# Prediction from test data\n",
    "prediction = logistic.predict(test_x)\n",
    "print(prediction)\n"
   ]
  },
  {
   "cell_type": "code",
   "execution_count": 224,
   "id": "7b20f200-4655-4e8e-a3ca-584a8ae30492",
   "metadata": {},
   "outputs": [
    {
     "name": "stdout",
     "output_type": "stream",
     "text": [
      "[[6290  533]\n",
      " [ 945 1281]]\n"
     ]
    }
   ],
   "source": [
    "# confusion matrix\n",
    "\n",
    "conf_matrix = confusion_matrix(test_y, prediction)\n",
    "print(conf_matrix)"
   ]
  },
  {
   "cell_type": "code",
   "execution_count": 225,
   "id": "140d0835-fc00-490e-80fd-cd4eecfe782d",
   "metadata": {},
   "outputs": [
    {
     "data": {
      "text/plain": [
       "<Axes: >"
      ]
     },
     "execution_count": 225,
     "metadata": {},
     "output_type": "execute_result"
    },
    {
     "data": {
      "image/png": "[encoded data removed]",
      "text/plain": [
       "<Figure size 640x480 with 2 Axes>"
      ]
     },
     "metadata": {},
     "output_type": "display_data"
    }
   ],
   "source": [
    "sns.heatmap(conf_matrix)"
   ]
  },
  {
   "cell_type": "code",
   "execution_count": 226,
   "id": "a52a627a-d41e-4465-b7ea-6bbe82677ff8",
   "metadata": {},
   "outputs": [
    {
     "name": "stdout",
     "output_type": "stream",
     "text": [
      "0.8366670350314952\n"
     ]
    }
   ],
   "source": [
    "# calculating the accuracy\n",
    "accuracyscore = accuracy_score(test_y, prediction)\n",
    "print(accuracyscore)"
   ]
  },
  {
   "cell_type": "code",
   "execution_count": 227,
   "id": "fadbdc16-e2cc-47ee-bd84-2bc634515b65",
   "metadata": {},
   "outputs": [
    {
     "name": "stdout",
     "output_type": "stream",
     "text": [
      "Misclassified samples : 1478\n"
     ]
    }
   ],
   "source": [
    "# printing misclassified values from the prediction\n",
    "\n",
    "print('Misclassified samples : %d' % (test_y != prediction).sum())"
   ]
  },
  {
   "cell_type": "markdown",
   "id": "9a1a2962-e6aa-41ff-85be-ff893a5260e2",
   "metadata": {},
   "source": [
    "# Step9 -  Validation(Removing insignificant variables)"
   ]
  },
  {
   "cell_type": "code",
   "execution_count": null,
   "id": "3118aab4-a396-4834-ab76-6c045e35af31",
   "metadata": {},
   "outputs": [],
   "source": []
  },
  {
   "cell_type": "code",
   "execution_count": null,
   "id": "fe4d8711-668a-4c67-8905-bd92b1a44551",
   "metadata": {},
   "outputs": [],
   "source": []
  }
 ],
 "metadata": {
  "kernelspec": {
   "display_name": "Python 3 (ipykernel)",
   "language": "python",
   "name": "python3"
  },
  "language_info": {
   "codemirror_mode": {
    "name": "ipython",
    "version": 3
   },
   "file_extension": ".py",
   "mimetype": "text/x-python",
   "name": "python",
   "nbconvert_exporter": "python",
   "pygments_lexer": "ipython3",
   "version": "3.12.4"
  }
 },
 "nbformat": 4,
 "nbformat_minor": 5
}
